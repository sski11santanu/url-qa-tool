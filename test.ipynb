{
 "cells": [
  {
   "cell_type": "markdown",
   "metadata": {},
   "source": [
    "# Test"
   ]
  },
  {
   "cell_type": "code",
   "execution_count": 1,
   "metadata": {},
   "outputs": [],
   "source": [
    "from langchain.document_loaders import TextLoader"
   ]
  },
  {
   "cell_type": "code",
   "execution_count": 2,
   "metadata": {},
   "outputs": [],
   "source": [
    "loader = TextLoader(\"test.txt\")\n",
    "data = loader.load()"
   ]
  },
  {
   "cell_type": "code",
   "execution_count": 3,
   "metadata": {},
   "outputs": [
    {
     "data": {
      "text/plain": [
       "[Document(page_content=\"This is just a test file\\nto check how Langchain's TextLoader document loader works.\\n\\nI hope this file suffices for my practice.\", metadata={'source': 'test.txt'})]"
      ]
     },
     "execution_count": 3,
     "metadata": {},
     "output_type": "execute_result"
    }
   ],
   "source": [
    "data"
   ]
  },
  {
   "cell_type": "code",
   "execution_count": 4,
   "metadata": {},
   "outputs": [
    {
     "data": {
      "text/plain": [
       "Document(page_content=\"This is just a test file\\nto check how Langchain's TextLoader document loader works.\\n\\nI hope this file suffices for my practice.\", metadata={'source': 'test.txt'})"
      ]
     },
     "execution_count": 4,
     "metadata": {},
     "output_type": "execute_result"
    }
   ],
   "source": [
    "data[0]"
   ]
  },
  {
   "cell_type": "code",
   "execution_count": 5,
   "metadata": {},
   "outputs": [
    {
     "data": {
      "text/plain": [
       "langchain_core.documents.base.Document"
      ]
     },
     "execution_count": 5,
     "metadata": {},
     "output_type": "execute_result"
    }
   ],
   "source": [
    "type(data[0])"
   ]
  },
  {
   "cell_type": "code",
   "execution_count": 6,
   "metadata": {},
   "outputs": [
    {
     "data": {
      "text/plain": [
       "{'source': 'test.txt'}"
      ]
     },
     "execution_count": 6,
     "metadata": {},
     "output_type": "execute_result"
    }
   ],
   "source": [
    "data[0].metadata"
   ]
  },
  {
   "cell_type": "code",
   "execution_count": 7,
   "metadata": {},
   "outputs": [
    {
     "data": {
      "text/plain": [
       "\"This is just a test file\\nto check how Langchain's TextLoader document loader works.\\n\\nI hope this file suffices for my practice.\""
      ]
     },
     "execution_count": 7,
     "metadata": {},
     "output_type": "execute_result"
    }
   ],
   "source": [
    "data[0].page_content"
   ]
  },
  {
   "cell_type": "code",
   "execution_count": 8,
   "metadata": {},
   "outputs": [],
   "source": [
    "from langchain.document_loaders import CSVLoader"
   ]
  },
  {
   "cell_type": "code",
   "execution_count": 9,
   "metadata": {},
   "outputs": [
    {
     "data": {
      "text/plain": [
       "[Document(page_content='id: 1\\nname: KGF\\nrating: 4.4\\ndate: 01-06-2022', metadata={'source': 'test.csv', 'row': 0}),\n",
       " Document(page_content='id: 2\\nname: Kung Fu Panda\\nrating: 4.8\\ndate: 28-03-2021', metadata={'source': 'test.csv', 'row': 1}),\n",
       " Document(page_content='id: 3\\nname: Baadshaah\\nrating: 3.9\\ndate: 09-11-2023', metadata={'source': 'test.csv', 'row': 2})]"
      ]
     },
     "execution_count": 9,
     "metadata": {},
     "output_type": "execute_result"
    }
   ],
   "source": [
    "loader = CSVLoader(\"test.csv\")\n",
    "data = loader.load()\n",
    "data"
   ]
  },
  {
   "cell_type": "code",
   "execution_count": 10,
   "metadata": {},
   "outputs": [
    {
     "data": {
      "text/plain": [
       "{'source': 'test.csv', 'row': 0}"
      ]
     },
     "execution_count": 10,
     "metadata": {},
     "output_type": "execute_result"
    }
   ],
   "source": [
    "data[0].metadata"
   ]
  },
  {
   "cell_type": "code",
   "execution_count": 11,
   "metadata": {},
   "outputs": [
    {
     "data": {
      "text/plain": [
       "3"
      ]
     },
     "execution_count": 11,
     "metadata": {},
     "output_type": "execute_result"
    }
   ],
   "source": [
    "loader = CSVLoader(\"test.csv\", source_column = \"name\")\n",
    "data = loader.load()\n",
    "len(data)"
   ]
  },
  {
   "cell_type": "code",
   "execution_count": 12,
   "metadata": {},
   "outputs": [
    {
     "data": {
      "text/plain": [
       "[Document(page_content='id: 1\\nname: KGF\\nrating: 4.4\\ndate: 01-06-2022', metadata={'source': 'KGF', 'row': 0}),\n",
       " Document(page_content='id: 2\\nname: Kung Fu Panda\\nrating: 4.8\\ndate: 28-03-2021', metadata={'source': 'Kung Fu Panda', 'row': 1}),\n",
       " Document(page_content='id: 3\\nname: Baadshaah\\nrating: 3.9\\ndate: 09-11-2023', metadata={'source': 'Baadshaah', 'row': 2})]"
      ]
     },
     "execution_count": 12,
     "metadata": {},
     "output_type": "execute_result"
    }
   ],
   "source": [
    "data"
   ]
  },
  {
   "cell_type": "markdown",
   "metadata": {},
   "source": [
    "# Unstructured URL Loading"
   ]
  },
  {
   "cell_type": "code",
   "execution_count": 13,
   "metadata": {},
   "outputs": [],
   "source": [
    "from langchain.document_loaders import UnstructuredURLLoader"
   ]
  },
  {
   "cell_type": "code",
   "execution_count": 14,
   "metadata": {},
   "outputs": [],
   "source": [
    "loader = UnstructuredURLLoader(urls = [\n",
    "    \"https://www.moneycontrol.com/news/business/markets/myth-of-stock-market-eating-into-bank-deposits-foreign-investors-fomo-mgl-star-health-prestige-in-focus-bears-gun-for-ujjivan-small-fin-12755470.html\",\n",
    "    \"https://www.moneycontrol.com/news/business/markets/clsa-ubs-bullish-on-zomato-stock-morgan-stanley-recommends-buying-on-dips-12755548.html\"\n",
    "])\n",
    "data = loader.load()"
   ]
  },
  {
   "cell_type": "code",
   "execution_count": 15,
   "metadata": {},
   "outputs": [
    {
     "data": {
      "text/plain": [
       "[Document(page_content='English\\n\\nHindi\\n\\nGujarati\\n\\nSpecials\\n\\nMoneycontrol Trending Stock\\n\\nInfosys\\xa0INE009A01021, INFY, 500209\\n\\nState Bank of India\\xa0INE062A01020, SBIN, 500112\\n\\nYes Bank\\xa0INE528G01027, YESBANK, 532648\\n\\nBank Nifty\\n\\nNifty 500\\n\\nQuotes\\n\\nMutual Funds\\n\\nCommodities\\n\\nFutures & Options\\n\\nCurrency\\n\\nNews\\n\\nCryptocurrency\\n\\nForum\\n\\nNotices\\n\\nVideos\\n\\nGlossary\\n\\nAll\\n\\nHello, Login Hello, LoginLog-inor Sign-UpMy AccountMy Profile My PortfolioMy WatchlistFREE Credit Score₹100 Cash RewardMy AlertsMy MessagesPrice AlertsMy Profile My PROMy PortfolioMy WatchlistFREE Credit Score₹100 Cash RewardMy AlertsMy MessagesPrice AlertsLogoutChat with UsDownload AppFollow us on:\\n\\nGo Ad-Free\\n\\nMy Alerts\\n\\nBudget 2        24MarketsHOMEINDIAN INDICESSTOCK ACTIONAll StatsTop GainersTop LosersOnly BuyersOnly Sellers52 Week High52 Week LowPrice ShockersVolume ShockersMost Active StocksGLOBAL MARKETSUS MARKETSSEASONALITY ANALYSISSTOCK SCANNERECONOMIC INDICATORSECONOMIC CALENDARMARKET ACTIONDashboardF&OFII & DII ActivityCorporate ActionEARNINGSCOMMODITYPRE MARKETRESEARCHAdviceBroker ResearchTechnicalsCURRENCYCRYPTOCURRENCYBIG SHARK PORTFOLIOSTECHNICAL TRENDSIPOBONDSWEBINARINTERVIEW SERIESOTHERSCryptocurrency NewsToolsNewsLATEST NEWSBudget 2024BUSINESSEconomyCompaniesMutual FundsPersonal FinanceIPOStartupReal EstateNATION & WORLDIndiaWorldPoliticsMARKETSStocksTechnical AnalysisEquity ResearchCommoditiesCurrencyGold RateSilver RateAQISPECIALTrendsLatest NewsOpinionExplainersMC BuzzMC FeaturesMC LearnTECHNOLOGYPersonal TechAutoFintechMEDIAPodcastPhotosVideosWeb StoriesCRYPTOCURRENCYOTHERSEntertainmentSportsLifestyleHealth and FitnessEducationJobsScienceAstroTravelTechPortfolioWatchlistCommoditiesMutual FundsEXPLOREHomeFind FundTop Ranked FundsPerformance TrackerSIP Performance TrackerETF PerformanceNFOTop Performing CategoriesLearnTOOLSReturns CalculatorLumpsum SIP BalancerDelay Cost CalculatorSIP ReturnMF FORUMTRACKYour MF InvestmentMF PricesMC 30Personal FinanceEXPLOREHomeInvestingInsuranceBankingFinancial PlanningPropertyToolsVideoAsk ExpertExplainerIncome Tax Filing GuideNPSFIXED DEPOSITFixed Deposit ComparisonFixed Deposit Interest CalculatorCorporate DepositsLOANS & CREDIT CARDSHomeLoans\\t\\t\\t\\t\\t\\t\\t\\t\\t\\t\\t\\t\\xa0Car Loan CalculatorHome Loan CalculatorEducation Loan CalculatorCredit Card Debit Payoff CalculatorTAXIncome tax Filing GuideIncome Tax CalculatorEmergency Fund CalculatorTOOLSProvident Fund CalculatorAssets Allocation PlanningDebt Reduction PlannerDebt Evaluation CalculatorCurrent Expense CalculatorFREE CREDIT SCORE₹100 Cash RewardREAL ESTATE : TRENDS & ANALYTICSMC 30MONEYCONTROL - SECURENOW HEALTH INSURANCE RATINGSGOLD PRICE TODAYUpcoming Chat | Previous TranscriptsAll Schedule | Previous TranscriptForumEXPLORE FORUMHomepageMembership RulesForum TopicsAsk the ExpertTop BoardersUSER PROFILEFORUM TOPICSLatest ThreadsStocksIndexGoldPersonal FinanceJust PostedMF FORUMPOLLSLatest PollsHistorical PollsMarket SentimentsSUPPORTFAQsCode of ConductFeedbackWrite to usVideosVIDEOSHomepageVideos on DemandMarkets with Santo & CJMorning TradeCommodities chat with Manisha GuptaLet`s Talk JobsThe TenantDrive ReportBajar GupshupBits To BillionsPODCASTHomepagePodcast on DemandThe Week on Dalal StreetMarket MinutesMC Special PodcastSimply SavePolicy TalksLIVE TVHindiGujaratiInvest NowEXPERT TRADING GUIDANCEPowered By Trading Advisories, Courses & Webinars by Top Verified Experts.Unlock Your Trading Potential: Trade like Experts with SEBI registered creators, Learn from Courses & Webinars by India\\'s Finest Finance Experts.Invest NowINVEST IN CRYPTOCURRENCIESPowered By Invest in top cryptocurrencies all over the worldSee the top gainers, losers, invest and get updated what\\'s happening in the crypto marketInvest NowPRO BusinessMarketsStocksEconomyCompaniesTrendsIPOOpinionEV Special\\n\\n>->MC_ENG_DESKTOP/MC_ENG_NEWS/MC_ENG_MARKETS_AS/MC_ENG_ROS_NWS_MKTS_AS_ATF_728\\n\\nGo PRO @₹99\\n\\nPRO\\n\\nAdvertisement\\n\\nRemove Ad\\n\\n\\n\\nBudget 2        24\\n\\nMarketsHOMEINDIAN INDICESSTOCK ACTIONAll StatsTop GainersTop LosersOnly BuyersOnly Sellers52 Week High52 Week LowPrice ShockersVolume ShockersMost Active StocksGLOBAL MARKETSUS MARKETSSEASONALITY ANALYSISSTOCK SCANNERECONOMIC INDICATORSECONOMIC CALENDARMARKET ACTIONDashboardF&OFII & DII ActivityCorporate ActionEARNINGSCOMMODITYPRE MARKETRESEARCHAdviceBroker ResearchTechnicalsCURRENCYCRYPTOCURRENCYBIG SHARK PORTFOLIOSTECHNICAL TRENDSIPOBONDSWEBINARINTERVIEW SERIESOTHERSCryptocurrency NewsTools\\n\\nNewsLATEST NEWSBudget 2024BUSINESSEconomyCompaniesMutual FundsPersonal FinanceIPOStartupReal EstateNATION & WORLDIndiaWorldPoliticsMARKETSStocksTechnical AnalysisEquity ResearchCommoditiesCurrencyGold RateSilver RateAQISPECIALTrendsLatest NewsOpinionExplainersMC BuzzMC FeaturesMC LearnTECHNOLOGYPersonal TechAutoFintechMEDIAPodcastPhotosVideosWeb StoriesCRYPTOCURRENCYOTHERSEntertainmentSportsLifestyleHealth and FitnessEducationJobsScienceAstroTravel\\n\\nTech\\n\\nPortfolio\\n\\nWatchlist\\n\\nCommodities\\n\\nMutual FundsEXPLOREHomeFind FundTop Ranked FundsPerformance TrackerSIP Performance TrackerETF PerformanceNFOTop Performing CategoriesLearnTOOLSReturns CalculatorLumpsum SIP BalancerDelay Cost CalculatorSIP ReturnMF FORUMTRACKYour MF InvestmentMF PricesMC 30\\n\\nPersonal FinanceEXPLOREHomeInvestingInsuranceBankingFinancial PlanningPropertyToolsVideoAsk ExpertExplainerIncome Tax Filing GuideNPSFIXED DEPOSITFixed Deposit ComparisonFixed Deposit Interest CalculatorCorporate DepositsLOANS & CREDIT CARDSHomeLoans\\t\\t\\t\\t\\t\\t\\t\\t\\t\\t\\t\\t\\xa0Car Loan CalculatorHome Loan CalculatorEducation Loan CalculatorCredit Card Debit Payoff CalculatorTAXIncome tax Filing GuideIncome Tax CalculatorEmergency Fund CalculatorTOOLSProvident Fund CalculatorAssets Allocation PlanningDebt Reduction PlannerDebt Evaluation CalculatorCurrent Expense CalculatorFREE CREDIT SCORE₹100 Cash RewardREAL ESTATE : TRENDS & ANALYTICSMC 30MONEYCONTROL - SECURENOW HEALTH INSURANCE RATINGSGOLD PRICE TODAYUpcoming Chat | Previous TranscriptsAll Schedule | Previous Transcript\\n\\nForumEXPLORE FORUMHomepageMembership RulesForum TopicsAsk the ExpertTop BoardersUSER PROFILEFORUM TOPICSLatest ThreadsStocksIndexGoldPersonal FinanceJust PostedMF FORUMPOLLSLatest PollsHistorical PollsMarket SentimentsSUPPORTFAQsCode of ConductFeedbackWrite to us\\n\\nVideosVIDEOSHomepageVideos on DemandMarkets with Santo & CJMorning TradeCommodities chat with Manisha GuptaLet`s Talk JobsThe TenantDrive ReportBajar GupshupBits To BillionsPODCASTHomepagePodcast on DemandThe Week on Dalal StreetMarket MinutesMC Special PodcastSimply SavePolicy TalksLIVE TVHindiGujarati\\n\\nInvest NowEXPERT TRADING GUIDANCEPowered By Trading Advisories, Courses & Webinars by Top Verified Experts.Unlock Your Trading Potential: Trade like Experts with SEBI registered creators, Learn from Courses & Webinars by India\\'s Finest Finance Experts.Invest NowINVEST IN CRYPTOCURRENCIESPowered By Invest in top cryptocurrencies all over the worldSee the top gainers, losers, invest and get updated what\\'s happening in the crypto marketInvest Now\\n\\nPRO\\n\\nBusiness\\n\\nMarkets\\n\\nStocks\\n\\nEconomy\\n\\nCompanies\\n\\nTrends\\n\\nIPO\\n\\nOpinion\\n\\nEV Special\\n\\nHome\\n\\nNews\\n\\nBusiness\\n\\nMarkets\\n\\nTrending Topics\\n\\nSensex Today\\n\\nInox Wind share price\\n\\nHG Infra share price\\n\\nBajaj Finserv\\n\\nJupiter Wagons stock price\\n\\nMyth of stock market eating into bank deposits, foreign investors’ FOMO, MGL, Star Health, Prestige in focus, bears gun for Ujjivan Small Fin\\n\\n\"Sell a stock because the company’s fundamentals deteriorate, not because the sky is falling.\" - Peter Lynch\\n\\nSantosh Nair\\n\\nJune 25, 2024 / 07:37 AM IST\\n\\n\\n\\n\\n\\n\\n\\n\\n\\n\\n\\n\\n\\nThe market is rallying, but foreign investors don’t seem to be giving in to the fear of missing out (FOMO) for now.\\n\\nA popular theory in the market is that the main reason for banks’ inability to garner low-cost deposits fast enough to match loan growth is that more savers are diverting their money to the stock market. This has led to mutual fund managers blaming the banking lobby for some of the rule changes in recent times. But the theory of stock market hurting banking deposit growth may be flawed, argue Nomura analysts Param Subramanian, Ankit Bihani, Ajit Kumar, and Parth Desai.\\n\\nFrom their note:\\n\\nStory continues below Advertisement\\n\\nRemove Ad\\n\\n“There is a misplaced narrative among many investors that money moving into capital markets (stocks and mutual funds) is affecting system deposit growth. This is incorrect, as flows into capital markets stay with the banking system (money flows from the buyer’s deposit account to the seller). In fact, money in capital markets finds no mention in RBI’s broad money statistics – as this is already accounted for in system deposit data.”\\n\\nStill cautious\\n\\nStill cautious\\n\\nThe market is rallying, but foreign investors don’t seem to be giving in to the fear of missing out (FOMO) for now.\\n\\nFrom Emkay strategist Seshadri Sen’s note:\\n\\nFrom Emkay strategist Seshadri Sen’s note:\\n\\n“Long-only investors have largely missed the post-election rally, both on absolute allocations to India and sector positioning in high-beta SMIDs. They are reluctant, however, to jump in at this stage due to expensive valuations.”\\n\\nRelated stories\\n\\nShort Call: Hour of reckoning for bulls, green shoots in logistics, steady Q1 for QSR; Indian Hotels...\\n\\nShort Call: Mutual fund investors chase momentum; capex cycle, Lupin, ITC, Persistent, Inox Wind in ...\\n\\nShort Call: It continues to be a mix picture for chemicals and the economy; MGL, IGL earnings may su...\\n\\nThe contra indicator here possibly could be that too many fund managers are getting optimistic about the economy and earnings outlook. Also, political concerns have all but vanished.\\n\\nStar Health (Rs 520, +0.2%)\\n\\nDown 5 percent over the past month on concerns over business model sustainability of standalone health insurers (SAHIs) if the government amends the Insurance Act to permit composite licenses.\\n\\nBull Case: SAHIs have unique strengths, including a diverse product range, strong hospital partnerships, and robust claims and underwriting capabilities, which are not easily replicated.\\n\\nStory continues below Advertisement\\n\\nRemove Ad\\n\\nBear Case: Life insurers could threaten SAHIs\\' market position. With an established agency network, life insurance companies might gain an upper hand.\\n\\nUjjivan Small Finance Bank (Rs 45.95, -5%)\\n\\nFY25 loan growth guidance and RoE target reduced to 20 percent\\n\\nBull case: Plans to increase the contribution of secured assets to 35 percent by FY25 and 40 percent by FY26. Looking to strengthen retail deposit franchise and leverage technology.\\n\\nBear case: Slower microfinance lending in FY24 due to pockets of stress in Punjab, Gujarat, and Kerala. Planned increase in the secured portfolio could reduce gross NIM.\\n\\nMahanagar Gas (Rs 1,487, flat)\\n\\nBajaj Auto to launch world’s first CNG motorcycle on July 5, with initial production capacity of 20,000 units per month.\\n\\nBull case: Bajaj’s initial 20,000 per month capacity located in Maharashtra; Nuvama expects MGL to be an early beneficiary, estimating a 2%-plus CNG volume gain by FY26E.\\n\\nBear case: Changes in domestic gas allocation could force greater reliance on expensive imports, hurting margins. Rupee depreciation and higher prices for allocated gas other risks.\\n\\nPrestige Estates (Rs 2,035, +2.6%)\\n\\nHospitality arm IPO soon\\n\\nBull case: Guidance of pre-sales growth of 25 percent YoY by FY25, supported by its dominant position in Bengaluru, upbeat residential demand, and cheaper valuations compared to peers.\\n\\nBear case: Muted residential demand, delay in execution of projects, and high interest rates potential risks. Recent gains partly driven by hopes of hospitality arm going public. Any delay there could hit sentiment.\\n\\nSantosh Nair                is Executive Editor, Special Projects, Moneycontrol. He has been writing on the financial markets for over two decades, having previously worked with Business Standard, myiris.com, Crisil Market Wire and The Economic Times. He is also the author of the popular book on Indian markets, Bulls, Bears and Other Beasts.\\n\\nTags:\\n\\n#Short Call\\n\\nfirst published: Jun 25, 2024 07:37 am\\n\\nTop Trends\\n\\nBudget 2024\\n\\nWipro\\n\\nStock Radar\\n\\nIxigo IPO allotment\\n\\nIPO News\\n\\nPrajwal Revanna\\n\\nAdvertisement\\n\\nRemove Ad\\n\\nTrending news\\n\\n30-year-old made over Rs 56 lakh last year by selling \\'trash\\'. What is \\'dumpster diving\\'?\\n\\nSydney landlord lists his balcony as \\'sunny room\\' for Rs 81,000 rent monthly\\n\\nAnant Ambani-Radhika Merchant wedding: Mumbai hotel rates soar from Rs 13,000 to Rs 91,350 per night\\n\\nNovak Djokovic\\'s message to Wimbledon fans who \\'disrespected\\' him with boos is viral. Watch\\n\\nAir India \\'forgets\\' to load PhD student\\'s luggage on San Francisco-Bengaluru direct flight\\n\\nAdvisory Alert:\\n\\ngrievanceofficer@nw18.com or call on 02268882347\\n\\nForum\\n\\nFacebook\\n\\nTwitter\\n\\nInstagram\\n\\nLinkedin\\n\\nRSS\\n\\nPortfolio\\n\\nMarkets\\n\\nWatchlist\\n\\nLive TV Show\\n\\nCurrencies\\n\\nFREE Credit Score₹100 Cash Reward\\n\\nCommodities\\n\\nFixed Income\\n\\nPersonal Finance\\n\\nMutual Fund\\n\\nPre-Market\\n\\nIPO\\n\\nGlobal Market\\n\\nBudget 2024\\n\\nElections 2024\\n\\nGold Rate\\n\\nBSE Sensex\\n\\nForum\\n\\nMC 30\\n\\nNews\\n\\nBusiness\\n\\nMarkets\\n\\nStocks\\n\\nIncome Tax Calculator\\n\\nIndia News\\n\\nT20 World Cup Points Table\\n\\nITR Filing 2023-24\\n\\nEconomy\\n\\nMutual Funds\\n\\nPersonal Finance\\n\\nIPO News\\n\\nStartups\\n\\nStocks:\\n\\nA |\\n\\nB |\\n\\nC |\\n\\nD |\\n\\nE |\\n\\nF |\\n\\nG |\\n\\nH |\\n\\nI |\\n\\nJ |\\n\\nK |\\n\\nL |\\n\\nM |\\n\\nN |\\n\\nO |\\n\\nP |\\n\\nQ |\\n\\nR |\\n\\nS |\\n\\nT |\\n\\nU |\\n\\nV |\\n\\nW |\\n\\nX |\\n\\nY |\\n\\nZ |\\n\\nOthers\\n\\nMutual Funds:\\n\\nA \\r\\n             |\\n\\nB \\r\\n             |\\n\\nC \\r\\n             |\\n\\nD \\r\\n             |\\n\\nE \\r\\n             |\\n\\nF \\r\\n             |\\n\\nG \\r\\n             |\\n\\nH \\r\\n             |\\n\\nI \\r\\n             |\\n\\nJ \\r\\n             |\\n\\nK \\r\\n             |\\n\\nL \\r\\n             |\\n\\nM \\r\\n             |\\n\\nN \\r\\n             |\\n\\nO \\r\\n             |\\n\\nP \\r\\n             |\\n\\nQ \\r\\n             |\\n\\nR \\r\\n             |\\n\\nS \\r\\n             |\\n\\nT \\r\\n             |\\n\\nU \\r\\n             |\\n\\nV \\r\\n             |\\n\\nW \\r\\n             |\\n\\nX \\r\\n             |\\n\\nY \\r\\n             |\\n\\nVisit the App Store to see all our apps:\\n\\nDownload from Google Play\\n\\nDownload from APP Store\\n\\nDownload from Windows Phone\\n\\nTools\\n\\nRetirement Planning\\n\\nEMI Calculator\\n\\nSIP Calculator\\n\\nSIP Planner\\n\\nUseful Links\\n\\nCrypto News\\n\\nBank Holidays in India\\n\\nGold Rate Today\\n\\nSilver Rate Today\\n\\nTrending News\\n\\nStartups\\n\\nNational News\\n\\nMC Videos\\n\\nMC You Tube\\n\\nHouse Purchase Index\\n\\nBest Portfolio Manager\\n\\nSmall Savings Schemes\\n\\nBonds\\n\\nTopperLearning\\n\\nClear Study Doubts\\n\\nEducation Franchisee Opportunity\\n\\nSpecials\\n\\nMaster Your Money\\n\\nGame Changers\\n\\nInvestment Watch\\n\\nPowerYourTrade\\n\\nMoneyBhai\\n\\nFocus\\n\\nSME Step Up\\n\\nNetwork 18 Sites\\n\\nNews18\\n\\nFirstpost\\n\\nCNBC TV18\\n\\nNews18 Hindi\\n\\nCricketnext\\n\\nOverdrive\\n\\nTopper Learning\\n\\nAbout us |\\n\\nContact Us |\\n\\nAdvisory Alert |\\n\\nAdvertise with Us |\\n\\nSupport |\\n\\nDisclaimer |\\n\\nPrivacy Policy |\\n\\nCookie Policy |\\n\\nTerms & Conditions |\\n\\nCareers |\\n\\nFinancial Terms (Glossary) |\\n\\nFAQs |\\n\\nSitemap |\\n\\nRSS Feed |\\n\\nInvestors\\n\\nCopyright © e-Eighteen.com Ltd. All rights reserved. Reproduction of news articles, photos, videos or any other content in whole or in part in any form \\r\\n        or medium without express writtern permission of moneycontrol.com is prohibited.\\n\\nYou got 30 Day’s Trial of\\n\\nGrab it Now\\n\\nAd-Free Experience\\n\\nTop Articles from Financial Times\\n\\nActionable Insights\\n\\nMC Research\\n\\nEconomic Calendar\\n\\n& Many More\\n\\nYou are already a Moneycontrol Pro user.\\n\\nNeeshita Beura', metadata={'source': 'https://www.moneycontrol.com/news/business/markets/myth-of-stock-market-eating-into-bank-deposits-foreign-investors-fomo-mgl-star-health-prestige-in-focus-bears-gun-for-ujjivan-small-fin-12755470.html'}),\n",
       " Document(page_content='English\\n\\nHindi\\n\\nGujarati\\n\\nSpecials\\n\\nMoneycontrol Trending Stock\\n\\nInfosys\\xa0INE009A01021, INFY, 500209\\n\\nState Bank of India\\xa0INE062A01020, SBIN, 500112\\n\\nYes Bank\\xa0INE528G01027, YESBANK, 532648\\n\\nBank Nifty\\n\\nNifty 500\\n\\nQuotes\\n\\nMutual Funds\\n\\nCommodities\\n\\nFutures & Options\\n\\nCurrency\\n\\nNews\\n\\nCryptocurrency\\n\\nForum\\n\\nNotices\\n\\nVideos\\n\\nGlossary\\n\\nAll\\n\\nHello, Login Hello, LoginLog-inor Sign-UpMy AccountMy Profile My PortfolioMy WatchlistFREE Credit Score₹100 Cash RewardMy AlertsMy MessagesPrice AlertsMy Profile My PROMy PortfolioMy WatchlistFREE Credit Score₹100 Cash RewardMy AlertsMy MessagesPrice AlertsLogoutChat with UsDownload AppFollow us on:\\n\\nGo Ad-Free\\n\\nMy Alerts\\n\\nBudget 2        24MarketsHOMEINDIAN INDICESSTOCK ACTIONAll StatsTop GainersTop LosersOnly BuyersOnly Sellers52 Week High52 Week LowPrice ShockersVolume ShockersMost Active StocksGLOBAL MARKETSUS MARKETSSEASONALITY ANALYSISSTOCK SCANNERECONOMIC INDICATORSECONOMIC CALENDARMARKET ACTIONDashboardF&OFII & DII ActivityCorporate ActionEARNINGSCOMMODITYPRE MARKETRESEARCHAdviceBroker ResearchTechnicalsCURRENCYCRYPTOCURRENCYBIG SHARK PORTFOLIOSTECHNICAL TRENDSIPOBONDSWEBINARINTERVIEW SERIESOTHERSCryptocurrency NewsToolsNewsLATEST NEWSBudget 2024BUSINESSEconomyCompaniesMutual FundsPersonal FinanceIPOStartupReal EstateNATION & WORLDIndiaWorldPoliticsMARKETSStocksTechnical AnalysisEquity ResearchCommoditiesCurrencyGold RateSilver RateAQISPECIALTrendsLatest NewsOpinionExplainersMC BuzzMC FeaturesMC LearnTECHNOLOGYPersonal TechAutoFintechMEDIAPodcastPhotosVideosWeb StoriesCRYPTOCURRENCYOTHERSEntertainmentSportsLifestyleHealth and FitnessEducationJobsScienceAstroTravelTechPortfolioWatchlistCommoditiesMutual FundsEXPLOREHomeFind FundTop Ranked FundsPerformance TrackerSIP Performance TrackerETF PerformanceNFOTop Performing CategoriesLearnTOOLSReturns CalculatorLumpsum SIP BalancerDelay Cost CalculatorSIP ReturnMF FORUMTRACKYour MF InvestmentMF PricesMC 30Personal FinanceEXPLOREHomeInvestingInsuranceBankingFinancial PlanningPropertyToolsVideoAsk ExpertExplainerIncome Tax Filing GuideNPSFIXED DEPOSITFixed Deposit ComparisonFixed Deposit Interest CalculatorCorporate DepositsLOANS & CREDIT CARDSHomeLoans\\t\\t\\t\\t\\t\\t\\t\\t\\t\\t\\t\\t\\xa0Car Loan CalculatorHome Loan CalculatorEducation Loan CalculatorCredit Card Debit Payoff CalculatorTAXIncome tax Filing GuideIncome Tax CalculatorEmergency Fund CalculatorTOOLSProvident Fund CalculatorAssets Allocation PlanningDebt Reduction PlannerDebt Evaluation CalculatorCurrent Expense CalculatorFREE CREDIT SCORE₹100 Cash RewardREAL ESTATE : TRENDS & ANALYTICSMC 30MONEYCONTROL - SECURENOW HEALTH INSURANCE RATINGSGOLD PRICE TODAYUpcoming Chat | Previous TranscriptsAll Schedule | Previous TranscriptForumEXPLORE FORUMHomepageMembership RulesForum TopicsAsk the ExpertTop BoardersUSER PROFILEFORUM TOPICSLatest ThreadsStocksIndexGoldPersonal FinanceJust PostedMF FORUMPOLLSLatest PollsHistorical PollsMarket SentimentsSUPPORTFAQsCode of ConductFeedbackWrite to usVideosVIDEOSHomepageVideos on DemandMarkets with Santo & CJMorning TradeCommodities chat with Manisha GuptaLet`s Talk JobsThe TenantDrive ReportBajar GupshupBits To BillionsPODCASTHomepagePodcast on DemandThe Week on Dalal StreetMarket MinutesMC Special PodcastSimply SavePolicy TalksLIVE TVHindiGujaratiInvest NowEXPERT TRADING GUIDANCEPowered By Trading Advisories, Courses & Webinars by Top Verified Experts.Unlock Your Trading Potential: Trade like Experts with SEBI registered creators, Learn from Courses & Webinars by India\\'s Finest Finance Experts.Invest NowINVEST IN CRYPTOCURRENCIESPowered By Invest in top cryptocurrencies all over the worldSee the top gainers, losers, invest and get updated what\\'s happening in the crypto marketInvest NowPRO BusinessMarketsStocksEconomyCompaniesTrendsIPOOpinionEV Special\\n\\n>->MC_ENG_DESKTOP/MC_ENG_NEWS/MC_ENG_MARKETS_AS/MC_ENG_ROS_NWS_MKTS_AS_ATF_728\\n\\nGo PRO @₹99\\n\\nPRO\\n\\nAdvertisement\\n\\nRemove Ad\\n\\n\\n\\nBudget 2        24\\n\\nMarketsHOMEINDIAN INDICESSTOCK ACTIONAll StatsTop GainersTop LosersOnly BuyersOnly Sellers52 Week High52 Week LowPrice ShockersVolume ShockersMost Active StocksGLOBAL MARKETSUS MARKETSSEASONALITY ANALYSISSTOCK SCANNERECONOMIC INDICATORSECONOMIC CALENDARMARKET ACTIONDashboardF&OFII & DII ActivityCorporate ActionEARNINGSCOMMODITYPRE MARKETRESEARCHAdviceBroker ResearchTechnicalsCURRENCYCRYPTOCURRENCYBIG SHARK PORTFOLIOSTECHNICAL TRENDSIPOBONDSWEBINARINTERVIEW SERIESOTHERSCryptocurrency NewsTools\\n\\nNewsLATEST NEWSBudget 2024BUSINESSEconomyCompaniesMutual FundsPersonal FinanceIPOStartupReal EstateNATION & WORLDIndiaWorldPoliticsMARKETSStocksTechnical AnalysisEquity ResearchCommoditiesCurrencyGold RateSilver RateAQISPECIALTrendsLatest NewsOpinionExplainersMC BuzzMC FeaturesMC LearnTECHNOLOGYPersonal TechAutoFintechMEDIAPodcastPhotosVideosWeb StoriesCRYPTOCURRENCYOTHERSEntertainmentSportsLifestyleHealth and FitnessEducationJobsScienceAstroTravel\\n\\nTech\\n\\nPortfolio\\n\\nWatchlist\\n\\nCommodities\\n\\nMutual FundsEXPLOREHomeFind FundTop Ranked FundsPerformance TrackerSIP Performance TrackerETF PerformanceNFOTop Performing CategoriesLearnTOOLSReturns CalculatorLumpsum SIP BalancerDelay Cost CalculatorSIP ReturnMF FORUMTRACKYour MF InvestmentMF PricesMC 30\\n\\nPersonal FinanceEXPLOREHomeInvestingInsuranceBankingFinancial PlanningPropertyToolsVideoAsk ExpertExplainerIncome Tax Filing GuideNPSFIXED DEPOSITFixed Deposit ComparisonFixed Deposit Interest CalculatorCorporate DepositsLOANS & CREDIT CARDSHomeLoans\\t\\t\\t\\t\\t\\t\\t\\t\\t\\t\\t\\t\\xa0Car Loan CalculatorHome Loan CalculatorEducation Loan CalculatorCredit Card Debit Payoff CalculatorTAXIncome tax Filing GuideIncome Tax CalculatorEmergency Fund CalculatorTOOLSProvident Fund CalculatorAssets Allocation PlanningDebt Reduction PlannerDebt Evaluation CalculatorCurrent Expense CalculatorFREE CREDIT SCORE₹100 Cash RewardREAL ESTATE : TRENDS & ANALYTICSMC 30MONEYCONTROL - SECURENOW HEALTH INSURANCE RATINGSGOLD PRICE TODAYUpcoming Chat | Previous TranscriptsAll Schedule | Previous Transcript\\n\\nForumEXPLORE FORUMHomepageMembership RulesForum TopicsAsk the ExpertTop BoardersUSER PROFILEFORUM TOPICSLatest ThreadsStocksIndexGoldPersonal FinanceJust PostedMF FORUMPOLLSLatest PollsHistorical PollsMarket SentimentsSUPPORTFAQsCode of ConductFeedbackWrite to us\\n\\nVideosVIDEOSHomepageVideos on DemandMarkets with Santo & CJMorning TradeCommodities chat with Manisha GuptaLet`s Talk JobsThe TenantDrive ReportBajar GupshupBits To BillionsPODCASTHomepagePodcast on DemandThe Week on Dalal StreetMarket MinutesMC Special PodcastSimply SavePolicy TalksLIVE TVHindiGujarati\\n\\nInvest NowEXPERT TRADING GUIDANCEPowered By Trading Advisories, Courses & Webinars by Top Verified Experts.Unlock Your Trading Potential: Trade like Experts with SEBI registered creators, Learn from Courses & Webinars by India\\'s Finest Finance Experts.Invest NowINVEST IN CRYPTOCURRENCIESPowered By Invest in top cryptocurrencies all over the worldSee the top gainers, losers, invest and get updated what\\'s happening in the crypto marketInvest Now\\n\\nPRO\\n\\nBusiness\\n\\nMarkets\\n\\nStocks\\n\\nEconomy\\n\\nCompanies\\n\\nTrends\\n\\nIPO\\n\\nOpinion\\n\\nEV Special\\n\\nHome\\n\\nNews\\n\\nBusiness\\n\\nMarkets\\n\\nTrending Topics\\n\\nSensex Today\\n\\nInox Wind share price\\n\\nHG Infra share price\\n\\nBajaj Finserv\\n\\nJupiter Wagons stock price\\n\\nCLSA, UBS bullish on Zomato stock; Morgan Stanley recommends buying on dips\\n\\nMorgan Stanley recently retained its ‘overweight’ rating on Zomato with a target of Rs 235. The brokerage said Zepto raising funding round increases the relevance of Quick Commerce (QC) channel.\\n\\nMoneycontrol News\\n\\nJune 25, 2024 / 09:51 AM IST\\n\\n\\n\\n\\n\\n\\n\\n\\n\\n\\n\\n\\n\\nAccording to Morgan Stanley analysts, any correction in Zomato could be a buying opportunity for the long-term investors.\\n\\nShares of Zomato gained over 2 percent on June 25 as several brokerages reaffirmed their bullish calls on the stock following Prosus’ FY24 annual report which showed Zomato is growing faster then Swiggy.\\n\\nThe stock has been on investors\\' radar since global brokerages turned bullish on the counter post its confirmation on initial talks with Paytm to acquire its ticketing business.\\n\\nStory continues below Advertisement\\n\\nRemove Ad\\n\\nAs per Prosus’ annual report for FY24, Swiggy’s overall gross order value (GOV) grew by 26 percent on-year which lagged Zomato’s corresponding growth of 36 percent during the same period.\\n\\nSwiggy’s overall revenue growth of 24 percent YoY was also lower than Zomato’s adjusted revenue growth of 55.9 percent YoY. Meanwhile, Swiggy’s trading losses reduced to $158mn during FY24 while Zomato reported a positive Ebitda of $5mn during FY24.\\n\\nAccording to analysts at Emkay Global, Zomato’s higher growth has been aided by the superior performance of its Quick Commerce. Meanwhile, Swiggy\\'s revenue increased 24 percent on-year, while Zomato\\'s adjusted revenue rose by nearly 56 percent YoY.\\n\\nRelated stories\\n\\nGainers & Losers: Stocks that moved the most on July 9\\n\\nKeystone Realtors share jump 6% as Q1 presales jump 22% on-year\\n\\nICICI Lombard rises 2%, nears 52-week high on strong June premium collection\\n\\nFollow our market blog to catch all the live action\\n\\nCLSA has issued a buy call on Zomato with a target price of Rs 248 per share. Another international brokerage UBS has also recommended a buy rating on the food aggregator\\'s stock with a target price of Rs 250.\\n\\nAccording to Emkay Global\\'s analysts, Swiggy’s performance reflects the continued traction of food delivery and rise of quick commerce.\\n\\nStory continues below Advertisement\\n\\nRemove Ad\\n\\n\"Steady improvement in operational performance and the planned IPO of Swiggy are likely to keep investor interest high in the space,\" the brokerage said as it maintained its \\'buy\\' call on Zomato with a target price of Rs 230 per share.\\n\\nRecently, Morgan Stanley retained its ‘overweight’ rating on Zomato with a target of Rs 235. The brokerage said Zepto raising funding round increases the relevance of Quick Commerce (QC) channel.\\n\\nLast week, Zepto announced that it has raised $665 million in a funding round that has doubled its valuations to $3.6 billion. This fundraise marked the biggest financing this year in the QC segment.\\n\\nAlso Read |\\xa0Morgan Stanley remains logged into internet stocks, prefers Zomato and PB Fintech\\n\\nMorgan Stanley said there is a probability that the competitive intensity may increase in the segment over the near term. It noted that assuming competitive intensity increases further, a push out of profitability for Quick commerce business versus the current assumptions is possible.\\n\\nAccording to analysts, any correction in Zomato could be a buying opportunity for the long-term investors.\\n\\nBernstein also has a \\'Buy\\' call on Zomato stock with a target price of Rs 230 per share. The brokerage cited the company\\'s market leadership, pricing power, and reduced delivery costs as key factors enabling it to achieve expanding margins and improved returns.\\n\\nAt 9:17 am, Zomato shares were trading 2.2 percent higher at Rs 203.04 on NSE. With today\\'s jump, the stock has delivered 63 percent returns on a year-to-date (YTD) basis\\n\\nIn the last one year, the stock has risen over 170 percent, massively outperforming benchmark Nifty 50 which rose 26 percent during this period.\\n\\nDisclaimer: The views and investment tips expressed by investment experts on Moneycontrol.com are their own and not those of the website or its management. Moneycontrol.com advises users to check with certified experts before taking any investment decisions.\\n\\nMoneycontrol News\\n\\nTags:\\n\\n#Buzzing Stocks\\n\\n#quick commerce\\n\\n#Swiggy\\n\\n#Swiggy and Zomato\\n\\n#Zomato\\n\\nfirst published: Jun 25, 2024 09:48 am\\n\\nTop Trends\\n\\nBudget 2024\\n\\nWipro\\n\\nStock Radar\\n\\nIxigo IPO allotment\\n\\nIPO News\\n\\nPrajwal Revanna\\n\\nAdvertisement\\n\\nRemove Ad\\n\\nTrending news\\n\\n30-year-old made over Rs 56 lakh last year by selling \\'trash\\'. What is \\'dumpster diving\\'?\\n\\nSydney landlord lists his balcony as \\'sunny room\\' for Rs 81,000 rent monthly\\n\\nAnant Ambani-Radhika Merchant wedding: Mumbai hotel rates soar from Rs 13,000 to Rs 91,350 per night\\n\\nNovak Djokovic\\'s message to Wimbledon fans who \\'disrespected\\' him with boos is viral. Watch\\n\\nAir India \\'forgets\\' to load PhD student\\'s luggage on San Francisco-Bengaluru direct flight\\n\\nAdvisory Alert:\\n\\ngrievanceofficer@nw18.com or call on 02268882347\\n\\nForum\\n\\nFacebook\\n\\nTwitter\\n\\nInstagram\\n\\nLinkedin\\n\\nRSS\\n\\nPortfolio\\n\\nMarkets\\n\\nWatchlist\\n\\nLive TV Show\\n\\nCurrencies\\n\\nFREE Credit Score₹100 Cash Reward\\n\\nCommodities\\n\\nFixed Income\\n\\nPersonal Finance\\n\\nMutual Fund\\n\\nPre-Market\\n\\nIPO\\n\\nGlobal Market\\n\\nBudget 2024\\n\\nElections 2024\\n\\nGold Rate\\n\\nBSE Sensex\\n\\nForum\\n\\nMC 30\\n\\nNews\\n\\nBusiness\\n\\nMarkets\\n\\nStocks\\n\\nIncome Tax Calculator\\n\\nIndia News\\n\\nT20 World Cup Points Table\\n\\nITR Filing 2023-24\\n\\nEconomy\\n\\nMutual Funds\\n\\nPersonal Finance\\n\\nIPO News\\n\\nStartups\\n\\nStocks:\\n\\nA |\\n\\nB |\\n\\nC |\\n\\nD |\\n\\nE |\\n\\nF |\\n\\nG |\\n\\nH |\\n\\nI |\\n\\nJ |\\n\\nK |\\n\\nL |\\n\\nM |\\n\\nN |\\n\\nO |\\n\\nP |\\n\\nQ |\\n\\nR |\\n\\nS |\\n\\nT |\\n\\nU |\\n\\nV |\\n\\nW |\\n\\nX |\\n\\nY |\\n\\nZ |\\n\\nOthers\\n\\nMutual Funds:\\n\\nA \\r\\n             |\\n\\nB \\r\\n             |\\n\\nC \\r\\n             |\\n\\nD \\r\\n             |\\n\\nE \\r\\n             |\\n\\nF \\r\\n             |\\n\\nG \\r\\n             |\\n\\nH \\r\\n             |\\n\\nI \\r\\n             |\\n\\nJ \\r\\n             |\\n\\nK \\r\\n             |\\n\\nL \\r\\n             |\\n\\nM \\r\\n             |\\n\\nN \\r\\n             |\\n\\nO \\r\\n             |\\n\\nP \\r\\n             |\\n\\nQ \\r\\n             |\\n\\nR \\r\\n             |\\n\\nS \\r\\n             |\\n\\nT \\r\\n             |\\n\\nU \\r\\n             |\\n\\nV \\r\\n             |\\n\\nW \\r\\n             |\\n\\nX \\r\\n             |\\n\\nY \\r\\n             |\\n\\nVisit the App Store to see all our apps:\\n\\nDownload from Google Play\\n\\nDownload from APP Store\\n\\nDownload from Windows Phone\\n\\nTools\\n\\nRetirement Planning\\n\\nEMI Calculator\\n\\nSIP Calculator\\n\\nSIP Planner\\n\\nUseful Links\\n\\nCrypto News\\n\\nBank Holidays in India\\n\\nGold Rate Today\\n\\nSilver Rate Today\\n\\nTrending News\\n\\nStartups\\n\\nNational News\\n\\nMC Videos\\n\\nMC You Tube\\n\\nHouse Purchase Index\\n\\nBest Portfolio Manager\\n\\nSmall Savings Schemes\\n\\nBonds\\n\\nTopperLearning\\n\\nClear Study Doubts\\n\\nEducation Franchisee Opportunity\\n\\nSpecials\\n\\nMaster Your Money\\n\\nGame Changers\\n\\nInvestment Watch\\n\\nPowerYourTrade\\n\\nMoneyBhai\\n\\nFocus\\n\\nSME Step Up\\n\\nNetwork 18 Sites\\n\\nNews18\\n\\nFirstpost\\n\\nCNBC TV18\\n\\nNews18 Hindi\\n\\nCricketnext\\n\\nOverdrive\\n\\nTopper Learning\\n\\nAbout us |\\n\\nContact Us |\\n\\nAdvisory Alert |\\n\\nAdvertise with Us |\\n\\nSupport |\\n\\nDisclaimer |\\n\\nPrivacy Policy |\\n\\nCookie Policy |\\n\\nTerms & Conditions |\\n\\nCareers |\\n\\nFinancial Terms (Glossary) |\\n\\nFAQs |\\n\\nSitemap |\\n\\nRSS Feed |\\n\\nInvestors\\n\\nCopyright © e-Eighteen.com Ltd. All rights reserved. Reproduction of news articles, photos, videos or any other content in whole or in part in any form \\r\\n        or medium without express writtern permission of moneycontrol.com is prohibited.\\n\\nYou got 30 Day’s Trial of\\n\\nGrab it Now\\n\\nAd-Free Experience\\n\\nTop Articles from Financial Times\\n\\nActionable Insights\\n\\nMC Research\\n\\nEconomic Calendar\\n\\n& Many More\\n\\nYou are already a Moneycontrol Pro user.\\n\\nHarshita Tyagi', metadata={'source': 'https://www.moneycontrol.com/news/business/markets/clsa-ubs-bullish-on-zomato-stock-morgan-stanley-recommends-buying-on-dips-12755548.html'})]"
      ]
     },
     "execution_count": 15,
     "metadata": {},
     "output_type": "execute_result"
    }
   ],
   "source": [
    "data"
   ]
  },
  {
   "cell_type": "markdown",
   "metadata": {},
   "source": [
    "# Text Splitting"
   ]
  },
  {
   "cell_type": "code",
   "execution_count": 16,
   "metadata": {},
   "outputs": [],
   "source": [
    "from langchain.text_splitter import CharacterTextSplitter"
   ]
  },
  {
   "cell_type": "code",
   "execution_count": 17,
   "metadata": {},
   "outputs": [],
   "source": [
    "test_text = \"\"\"Full job description\n",
    "\n",
    "Statfinity is looking for an Artificial Intelligence (AI) Engineer to join its dynamic team.\n",
    "\n",
    "Required skills:\n",
    "\n",
    "    Expertise in using Python (Functions, Loops, AI & ML Libraries) and advanced SQL for data manipulation.\n",
    "    Hands-on experience in GenAI technologies such as OpenAI, Azure AI, Langchain, TensorFlow, PyTorch, Hugging Face, etc.\n",
    "    Demonstrable ability to formulate prompt engineering.\n",
    "    Experienced in developing end-to-end AI models.\n",
    "    Effective communication and collaboration skills to work with cross-functional teams.\n",
    "    Good to have experience with natural language processing (NLP), computer vision, chatbots, and image processing.\n",
    "\n",
    "If you are someone who has the attitude of taking ownership of the problem and curiosity to learn/explore new technologies in the world of AI with minimal supervision in a remote environment, we want to talk to you.\n",
    "\n",
    "Job Types: Full-time, Permanent\n",
    "\n",
    "Pay: ₹25,000.00 - ₹45,000.00 per month\n",
    "\n",
    "Benefits:\n",
    "\n",
    "    Internet reimbursement\n",
    "    Paid sick time\n",
    "    Paid time off\n",
    "    Work from home\n",
    "\n",
    "Schedule:\n",
    "\n",
    "    Day shift\n",
    "    Monday to Friday\n",
    "\n",
    "Supplemental pay types:\n",
    "\n",
    "    Performance bonus\n",
    "    Quarterly bonus\n",
    "    Yearly bonus\n",
    "\n",
    "Application Question(s):\n",
    "\n",
    "    Tell us about your experience with OpenAI / Langchain.\n",
    "    Describe a project you did using LLMs.\n",
    "\n",
    "Education:\n",
    "\n",
    "    Bachelor's (Preferred)\n",
    "\n",
    "Experience:\n",
    "\n",
    "    Generative AI: 1 year (Required)\n",
    "\n",
    "Work Location: Remote\"\"\""
   ]
  },
  {
   "cell_type": "code",
   "execution_count": 18,
   "metadata": {},
   "outputs": [],
   "source": [
    "splitter = CharacterTextSplitter(separator = \"\\n\", chunk_size = 200, chunk_overlap = 0)"
   ]
  },
  {
   "cell_type": "code",
   "execution_count": 19,
   "metadata": {},
   "outputs": [
    {
     "name": "stderr",
     "output_type": "stream",
     "text": [
      "Created a chunk of size 215, which is longer than the specified 200\n"
     ]
    },
    {
     "data": {
      "text/plain": [
       "9"
      ]
     },
     "execution_count": 19,
     "metadata": {},
     "output_type": "execute_result"
    }
   ],
   "source": [
    "chunks = splitter.split_text(test_text)\n",
    "len(chunks)"
   ]
  },
  {
   "cell_type": "code",
   "execution_count": 20,
   "metadata": {},
   "outputs": [
    {
     "name": "stdout",
     "output_type": "stream",
     "text": [
      "130\n",
      "103\n",
      "176\n",
      "137\n",
      "112\n",
      "215\n",
      "187\n",
      "183\n",
      "147\n"
     ]
    }
   ],
   "source": [
    "for chunk in chunks:\n",
    "    print(len(chunk))"
   ]
  },
  {
   "cell_type": "code",
   "execution_count": 21,
   "metadata": {},
   "outputs": [],
   "source": [
    "from langchain.text_splitter import RecursiveCharacterTextSplitter"
   ]
  },
  {
   "cell_type": "code",
   "execution_count": 22,
   "metadata": {},
   "outputs": [
    {
     "data": {
      "text/plain": [
       "11"
      ]
     },
     "execution_count": 22,
     "metadata": {},
     "output_type": "execute_result"
    }
   ],
   "source": [
    "splitter = RecursiveCharacterTextSplitter(\n",
    "    separators = [\"\\n\\n\", \"\\n\", \" \"],\n",
    "    chunk_size = 200,\n",
    "    chunk_overlap = 0\n",
    ")\n",
    "chunks = splitter.split_text(test_text)\n",
    "len(chunks)"
   ]
  },
  {
   "cell_type": "code",
   "execution_count": 23,
   "metadata": {},
   "outputs": [
    {
     "name": "stdout",
     "output_type": "stream",
     "text": [
      "132\n",
      "103\n",
      "176\n",
      "137\n",
      "112\n",
      "199\n",
      "15\n",
      "177\n",
      "141\n",
      "188\n",
      "21\n"
     ]
    }
   ],
   "source": [
    "for chunk in chunks:\n",
    "    print(len(chunk))"
   ]
  },
  {
   "cell_type": "code",
   "execution_count": 24,
   "metadata": {},
   "outputs": [
    {
     "data": {
      "text/plain": [
       "'Hands-on experience in GenAI technologies such as OpenAI, Azure AI, Langchain, TensorFlow, PyTorch, Hugging Face, etc.\\n    Demonstrable ability to formulate prompt engineering.'"
      ]
     },
     "execution_count": 24,
     "metadata": {},
     "output_type": "execute_result"
    }
   ],
   "source": [
    "chunks[2]"
   ]
  },
  {
   "cell_type": "markdown",
   "metadata": {},
   "source": [
    "# Embeddings"
   ]
  },
  {
   "cell_type": "code",
   "execution_count": 25,
   "metadata": {},
   "outputs": [
    {
     "name": "stderr",
     "output_type": "stream",
     "text": [
      "c:\\Users\\iitsh\\AppData\\Local\\Programs\\Python\\Python312\\Lib\\site-packages\\sentence_transformers\\cross_encoder\\CrossEncoder.py:11: TqdmExperimentalWarning: Using `tqdm.autonotebook.tqdm` in notebook mode. Use `tqdm.tqdm` instead to force console mode (e.g. in jupyter console)\n",
      "  from tqdm.autonotebook import tqdm, trange\n"
     ]
    }
   ],
   "source": [
    "import pandas as pd\n",
    "from sentence_transformers import SentenceTransformer"
   ]
  },
  {
   "cell_type": "code",
   "execution_count": 26,
   "metadata": {},
   "outputs": [
    {
     "data": {
      "text/html": [
       "<div>\n",
       "<style scoped>\n",
       "    .dataframe tbody tr th:only-of-type {\n",
       "        vertical-align: middle;\n",
       "    }\n",
       "\n",
       "    .dataframe tbody tr th {\n",
       "        vertical-align: top;\n",
       "    }\n",
       "\n",
       "    .dataframe thead th {\n",
       "        text-align: right;\n",
       "    }\n",
       "</style>\n",
       "<table border=\"1\" class=\"dataframe\">\n",
       "  <thead>\n",
       "    <tr style=\"text-align: right;\">\n",
       "      <th></th>\n",
       "      <th>id</th>\n",
       "      <th>name</th>\n",
       "      <th>rating</th>\n",
       "      <th>date</th>\n",
       "    </tr>\n",
       "  </thead>\n",
       "  <tbody>\n",
       "    <tr>\n",
       "      <th>0</th>\n",
       "      <td>1</td>\n",
       "      <td>KGF</td>\n",
       "      <td>4.4</td>\n",
       "      <td>01-06-2022</td>\n",
       "    </tr>\n",
       "    <tr>\n",
       "      <th>1</th>\n",
       "      <td>2</td>\n",
       "      <td>Kung Fu Panda</td>\n",
       "      <td>4.8</td>\n",
       "      <td>28-03-2021</td>\n",
       "    </tr>\n",
       "    <tr>\n",
       "      <th>2</th>\n",
       "      <td>3</td>\n",
       "      <td>Baadshaah</td>\n",
       "      <td>3.9</td>\n",
       "      <td>09-11-2023</td>\n",
       "    </tr>\n",
       "  </tbody>\n",
       "</table>\n",
       "</div>"
      ],
      "text/plain": [
       "   id           name  rating        date\n",
       "0   1            KGF     4.4  01-06-2022\n",
       "1   2  Kung Fu Panda     4.8  28-03-2021\n",
       "2   3      Baadshaah     3.9  09-11-2023"
      ]
     },
     "execution_count": 26,
     "metadata": {},
     "output_type": "execute_result"
    }
   ],
   "source": [
    "df = pd.read_csv(\"test.csv\")\n",
    "df"
   ]
  },
  {
   "cell_type": "code",
   "execution_count": 27,
   "metadata": {},
   "outputs": [
    {
     "name": "stderr",
     "output_type": "stream",
     "text": [
      "c:\\Users\\iitsh\\AppData\\Local\\Programs\\Python\\Python312\\Lib\\site-packages\\huggingface_hub\\file_download.py:1132: FutureWarning: `resume_download` is deprecated and will be removed in version 1.0.0. Downloads always resume when possible. If you want to force a new download, use `force_download=True`.\n",
      "  warnings.warn(\n"
     ]
    },
    {
     "data": {
      "text/plain": [
       "(3, 768)"
      ]
     },
     "execution_count": 27,
     "metadata": {},
     "output_type": "execute_result"
    }
   ],
   "source": [
    "encoder = SentenceTransformer(\"all-mpnet-base-v2\")\n",
    "vectors = encoder.encode(df[\"name\"])\n",
    "vectors.shape"
   ]
  },
  {
   "cell_type": "code",
   "execution_count": 28,
   "metadata": {},
   "outputs": [],
   "source": [
    "dim = vectors.shape[1]"
   ]
  },
  {
   "cell_type": "code",
   "execution_count": 29,
   "metadata": {},
   "outputs": [
    {
     "data": {
      "text/plain": [
       "numpy.ndarray"
      ]
     },
     "execution_count": 29,
     "metadata": {},
     "output_type": "execute_result"
    }
   ],
   "source": [
    "type(vectors)"
   ]
  },
  {
   "cell_type": "markdown",
   "metadata": {},
   "source": [
    "# FAISS (Facebook AI Similarity Search) Vector Database"
   ]
  },
  {
   "cell_type": "code",
   "execution_count": 33,
   "metadata": {},
   "outputs": [],
   "source": [
    "import faiss\n",
    "import numpy as np"
   ]
  },
  {
   "cell_type": "code",
   "execution_count": 34,
   "metadata": {},
   "outputs": [
    {
     "data": {
      "text/plain": [
       "<faiss.swigfaiss_avx2.IndexFlatL2; proxy of <Swig Object of type 'faiss::IndexFlatL2 *' at 0x000002185B33A910> >"
      ]
     },
     "execution_count": 34,
     "metadata": {},
     "output_type": "execute_result"
    }
   ],
   "source": [
    "index = faiss.IndexFlatL2(dim)\n",
    "index"
   ]
  },
  {
   "cell_type": "code",
   "execution_count": 35,
   "metadata": {},
   "outputs": [
    {
     "data": {
      "text/plain": [
       "(1, 768)"
      ]
     },
     "execution_count": 35,
     "metadata": {},
     "output_type": "execute_result"
    }
   ],
   "source": [
    "index.add(vectors)\n",
    "query = \"Fighting animal related movie\"\n",
    "query_embed = encoder.encode([query])\n",
    "query_embed.shape"
   ]
  },
  {
   "cell_type": "code",
   "execution_count": 36,
   "metadata": {},
   "outputs": [
    {
     "data": {
      "text/plain": [
       "(array([[0.9195317, 1.6586064, 1.7280314]], dtype=float32),\n",
       " array([[1, 0, 2]], dtype=int64))"
      ]
     },
     "execution_count": 36,
     "metadata": {},
     "output_type": "execute_result"
    }
   ],
   "source": [
    "index.search(query_embed, 3)   # First item in the tuple represents the distances"
   ]
  },
  {
   "cell_type": "code",
   "execution_count": 37,
   "metadata": {},
   "outputs": [
    {
     "data": {
      "text/html": [
       "<div>\n",
       "<style scoped>\n",
       "    .dataframe tbody tr th:only-of-type {\n",
       "        vertical-align: middle;\n",
       "    }\n",
       "\n",
       "    .dataframe tbody tr th {\n",
       "        vertical-align: top;\n",
       "    }\n",
       "\n",
       "    .dataframe thead th {\n",
       "        text-align: right;\n",
       "    }\n",
       "</style>\n",
       "<table border=\"1\" class=\"dataframe\">\n",
       "  <thead>\n",
       "    <tr style=\"text-align: right;\">\n",
       "      <th></th>\n",
       "      <th>id</th>\n",
       "      <th>name</th>\n",
       "      <th>rating</th>\n",
       "      <th>date</th>\n",
       "    </tr>\n",
       "  </thead>\n",
       "  <tbody>\n",
       "    <tr>\n",
       "      <th>1</th>\n",
       "      <td>2</td>\n",
       "      <td>Kung Fu Panda</td>\n",
       "      <td>4.8</td>\n",
       "      <td>28-03-2021</td>\n",
       "    </tr>\n",
       "    <tr>\n",
       "      <th>0</th>\n",
       "      <td>1</td>\n",
       "      <td>KGF</td>\n",
       "      <td>4.4</td>\n",
       "      <td>01-06-2022</td>\n",
       "    </tr>\n",
       "    <tr>\n",
       "      <th>2</th>\n",
       "      <td>3</td>\n",
       "      <td>Baadshaah</td>\n",
       "      <td>3.9</td>\n",
       "      <td>09-11-2023</td>\n",
       "    </tr>\n",
       "  </tbody>\n",
       "</table>\n",
       "</div>"
      ],
      "text/plain": [
       "   id           name  rating        date\n",
       "1   2  Kung Fu Panda     4.8  28-03-2021\n",
       "0   1            KGF     4.4  01-06-2022\n",
       "2   3      Baadshaah     3.9  09-11-2023"
      ]
     },
     "execution_count": 37,
     "metadata": {},
     "output_type": "execute_result"
    }
   ],
   "source": [
    "df.iloc[index.search(query_embed, 3)[1][0]]"
   ]
  },
  {
   "cell_type": "markdown",
   "metadata": {},
   "source": [
    "# Retrieval QA With Sources Chain"
   ]
  },
  {
   "cell_type": "code",
   "execution_count": 8,
   "metadata": {},
   "outputs": [],
   "source": [
    "# from langchain import OpenAI\n",
    "# from langchain.chains import RetrievalQAWithSourcesChain\n",
    "# from langchain.chains.qa_with_sources.loading import load_qa_with_sources_chain\n",
    "\n",
    "from langchain.text_splitter import RecursiveCharacterTextSplitter\n",
    "from langchain.document_loaders import UnstructuredURLLoader\n",
    "# from langchain.embeddings import OpenAIEmbeddings\n",
    "# from langchain.vectorstores import FAISS\n",
    "\n",
    "from llama_index.llms.gemini import Gemini"
   ]
  },
  {
   "cell_type": "code",
   "execution_count": 2,
   "metadata": {},
   "outputs": [],
   "source": [
    "import os\n",
    "import pickle"
   ]
  },
  {
   "cell_type": "code",
   "execution_count": 1,
   "metadata": {},
   "outputs": [
    {
     "name": "stderr",
     "output_type": "stream",
     "text": [
      "c:\\Users\\iitsh\\AppData\\Local\\Programs\\Python\\Python312\\Lib\\site-packages\\sentence_transformers\\cross_encoder\\CrossEncoder.py:11: TqdmExperimentalWarning: Using `tqdm.autonotebook.tqdm` in notebook mode. Use `tqdm.tqdm` instead to force console mode (e.g. in jupyter console)\n",
      "  from tqdm.autonotebook import tqdm, trange\n"
     ]
    }
   ],
   "source": [
    "from sentence_transformers import SentenceTransformer"
   ]
  },
  {
   "cell_type": "code",
   "execution_count": 5,
   "metadata": {},
   "outputs": [],
   "source": [
    "import pandas as pd\n",
    "from datetime import datetime"
   ]
  },
  {
   "cell_type": "code",
   "execution_count": 6,
   "metadata": {},
   "outputs": [],
   "source": [
    "import faiss"
   ]
  },
  {
   "cell_type": "code",
   "execution_count": 7,
   "metadata": {},
   "outputs": [],
   "source": [
    "# os.environ[\"GOOGLE_API_KEY\"] = \"\""
   ]
  },
  {
   "cell_type": "code",
   "execution_count": 8,
   "metadata": {},
   "outputs": [],
   "source": [
    "df = pd.DataFrame(columns = [\"text\", \"timestamp\", \"url\"])"
   ]
  },
  {
   "cell_type": "code",
   "execution_count": 9,
   "metadata": {},
   "outputs": [
    {
     "data": {
      "text/html": [
       "<div>\n",
       "<style scoped>\n",
       "    .dataframe tbody tr th:only-of-type {\n",
       "        vertical-align: middle;\n",
       "    }\n",
       "\n",
       "    .dataframe tbody tr th {\n",
       "        vertical-align: top;\n",
       "    }\n",
       "\n",
       "    .dataframe thead th {\n",
       "        text-align: right;\n",
       "    }\n",
       "</style>\n",
       "<table border=\"1\" class=\"dataframe\">\n",
       "  <thead>\n",
       "    <tr style=\"text-align: right;\">\n",
       "      <th></th>\n",
       "      <th>text</th>\n",
       "      <th>timestamp</th>\n",
       "      <th>url</th>\n",
       "    </tr>\n",
       "  </thead>\n",
       "  <tbody>\n",
       "  </tbody>\n",
       "</table>\n",
       "</div>"
      ],
      "text/plain": [
       "Empty DataFrame\n",
       "Columns: [text, timestamp, url]\n",
       "Index: []"
      ]
     },
     "execution_count": 9,
     "metadata": {},
     "output_type": "execute_result"
    }
   ],
   "source": [
    "df.head()"
   ]
  },
  {
   "cell_type": "code",
   "execution_count": 13,
   "metadata": {},
   "outputs": [
    {
     "name": "stderr",
     "output_type": "stream",
     "text": [
      "Error fetching or processing a, exception: Invalid URL 'a': No scheme supplied. Perhaps you meant https://a?\n"
     ]
    },
    {
     "name": "stdout",
     "output_type": "stream",
     "text": [
      "[]\n"
     ]
    }
   ],
   "source": [
    "print(UnstructuredURLLoader(urls = [\"a\"]).load())"
   ]
  },
  {
   "cell_type": "code",
   "execution_count": 10,
   "metadata": {},
   "outputs": [
    {
     "data": {
      "text/plain": [
       "[Document(page_content='English\\n\\nHindi\\n\\nGujarati\\n\\nSpecials\\n\\nMoneycontrol Trending Stock\\n\\nInfosys\\xa0INE009A01021, INFY, 500209\\n\\nState Bank of India\\xa0INE062A01020, SBIN, 500112\\n\\nYes Bank\\xa0INE528G01027, YESBANK, 532648\\n\\nBank Nifty\\n\\nNifty 500\\n\\nQuotes\\n\\nMutual Funds\\n\\nCommodities\\n\\nFutures & Options\\n\\nCurrency\\n\\nNews\\n\\nCryptocurrency\\n\\nForum\\n\\nNotices\\n\\nVideos\\n\\nGlossary\\n\\nAll\\n\\nHello, Login Hello, LoginLog-inor Sign-UpMy AccountMy Profile My PortfolioMy WatchlistFREE Credit Score₹100 Cash RewardMy AlertsMy MessagesPrice AlertsMy Profile My PROMy PortfolioMy WatchlistFREE Credit Score₹100 Cash RewardMy AlertsMy MessagesPrice AlertsLogoutChat with UsDownload AppFollow us on:\\n\\nGo Ad-Free\\n\\nMy Alerts\\n\\nBudget 2        24MarketsHOMEINDIAN INDICESSTOCK ACTIONAll StatsTop GainersTop LosersOnly BuyersOnly Sellers52 Week High52 Week LowPrice ShockersVolume ShockersMost Active StocksGLOBAL MARKETSUS MARKETSSEASONALITY ANALYSISSTOCK SCANNERECONOMIC INDICATORSECONOMIC CALENDARMARKET ACTIONDashboardF&OFII & DII ActivityCorporate ActionEARNINGSCOMMODITYPRE MARKETRESEARCHAdviceBroker ResearchTechnicalsCURRENCYCRYPTOCURRENCYBIG SHARK PORTFOLIOSTECHNICAL TRENDSIPOBONDSWEBINARINTERVIEW SERIESOTHERSCryptocurrency NewsToolsNewsLATEST NEWSBudget 2024BUSINESSEconomyCompaniesMutual FundsPersonal FinanceIPOStartupReal EstateNATION & WORLDIndiaWorldPoliticsMARKETSStocksTechnical AnalysisEquity ResearchCommoditiesCurrencyGold RateSilver RateAQISPECIALTrendsLatest NewsOpinionExplainersMC BuzzMC FeaturesMC LearnTECHNOLOGYPersonal TechAutoFintechMEDIAPodcastPhotosVideosWeb StoriesCRYPTOCURRENCYOTHERSEntertainmentSportsLifestyleHealth and FitnessEducationJobsScienceAstroTravelTechPortfolioWatchlistCommoditiesMutual FundsEXPLOREHomeFind FundTop Ranked FundsPerformance TrackerSIP Performance TrackerETF PerformanceNFOTop Performing CategoriesLearnTOOLSReturns CalculatorLumpsum SIP BalancerDelay Cost CalculatorSIP ReturnMF FORUMTRACKYour MF InvestmentMF PricesMC 30Personal FinanceEXPLOREHomeInvestingInsuranceBankingFinancial PlanningPropertyToolsVideoAsk ExpertExplainerIncome Tax Filing GuideNPSFIXED DEPOSITFixed Deposit ComparisonFixed Deposit Interest CalculatorCorporate DepositsLOANS & CREDIT CARDSHomeLoans\\t\\t\\t\\t\\t\\t\\t\\t\\t\\t\\t\\t\\xa0Car Loan CalculatorHome Loan CalculatorEducation Loan CalculatorCredit Card Debit Payoff CalculatorTAXIncome tax Filing GuideIncome Tax CalculatorEmergency Fund CalculatorTOOLSProvident Fund CalculatorAssets Allocation PlanningDebt Reduction PlannerDebt Evaluation CalculatorCurrent Expense CalculatorFREE CREDIT SCORE₹100 Cash RewardREAL ESTATE : TRENDS & ANALYTICSMC 30MONEYCONTROL - SECURENOW HEALTH INSURANCE RATINGSGOLD PRICE TODAYUpcoming Chat | Previous TranscriptsAll Schedule | Previous TranscriptForumEXPLORE FORUMHomepageMembership RulesForum TopicsAsk the ExpertTop BoardersUSER PROFILEFORUM TOPICSLatest ThreadsStocksIndexGoldPersonal FinanceJust PostedMF FORUMPOLLSLatest PollsHistorical PollsMarket SentimentsSUPPORTFAQsCode of ConductFeedbackWrite to usVideosVIDEOSHomepageVideos on DemandMarkets with Santo & CJMorning TradeCommodities chat with Manisha GuptaLet`s Talk JobsThe TenantDrive ReportBajar GupshupBits To BillionsPODCASTHomepagePodcast on DemandThe Week on Dalal StreetMarket MinutesMC Special PodcastSimply SavePolicy TalksLIVE TVHindiGujaratiInvest NowEXPERT TRADING GUIDANCEPowered By Trading Advisories, Courses & Webinars by Top Verified Experts.Unlock Your Trading Potential: Trade like Experts with SEBI registered creators, Learn from Courses & Webinars by India\\'s Finest Finance Experts.Invest NowINVEST IN CRYPTOCURRENCIESPowered By Invest in top cryptocurrencies all over the worldSee the top gainers, losers, invest and get updated what\\'s happening in the crypto marketInvest NowPRO BusinessMarketsStocksEconomyCompaniesTrendsIPOOpinionEV Special\\n\\n>->MC_ENG_DESKTOP/MC_ENG_NEWS/MC_ENG_MARKETS_AS/MC_ENG_ROS_NWS_MKTS_AS_ATF_728\\n\\nGo PRO @₹99\\n\\nPRO\\n\\nAdvertisement\\n\\nRemove Ad\\n\\n\\n\\nBudget 2        24\\n\\nMarketsHOMEINDIAN INDICESSTOCK ACTIONAll StatsTop GainersTop LosersOnly BuyersOnly Sellers52 Week High52 Week LowPrice ShockersVolume ShockersMost Active StocksGLOBAL MARKETSUS MARKETSSEASONALITY ANALYSISSTOCK SCANNERECONOMIC INDICATORSECONOMIC CALENDARMARKET ACTIONDashboardF&OFII & DII ActivityCorporate ActionEARNINGSCOMMODITYPRE MARKETRESEARCHAdviceBroker ResearchTechnicalsCURRENCYCRYPTOCURRENCYBIG SHARK PORTFOLIOSTECHNICAL TRENDSIPOBONDSWEBINARINTERVIEW SERIESOTHERSCryptocurrency NewsTools\\n\\nNewsLATEST NEWSBudget 2024BUSINESSEconomyCompaniesMutual FundsPersonal FinanceIPOStartupReal EstateNATION & WORLDIndiaWorldPoliticsMARKETSStocksTechnical AnalysisEquity ResearchCommoditiesCurrencyGold RateSilver RateAQISPECIALTrendsLatest NewsOpinionExplainersMC BuzzMC FeaturesMC LearnTECHNOLOGYPersonal TechAutoFintechMEDIAPodcastPhotosVideosWeb StoriesCRYPTOCURRENCYOTHERSEntertainmentSportsLifestyleHealth and FitnessEducationJobsScienceAstroTravel\\n\\nTech\\n\\nPortfolio\\n\\nWatchlist\\n\\nCommodities\\n\\nMutual FundsEXPLOREHomeFind FundTop Ranked FundsPerformance TrackerSIP Performance TrackerETF PerformanceNFOTop Performing CategoriesLearnTOOLSReturns CalculatorLumpsum SIP BalancerDelay Cost CalculatorSIP ReturnMF FORUMTRACKYour MF InvestmentMF PricesMC 30\\n\\nPersonal FinanceEXPLOREHomeInvestingInsuranceBankingFinancial PlanningPropertyToolsVideoAsk ExpertExplainerIncome Tax Filing GuideNPSFIXED DEPOSITFixed Deposit ComparisonFixed Deposit Interest CalculatorCorporate DepositsLOANS & CREDIT CARDSHomeLoans\\t\\t\\t\\t\\t\\t\\t\\t\\t\\t\\t\\t\\xa0Car Loan CalculatorHome Loan CalculatorEducation Loan CalculatorCredit Card Debit Payoff CalculatorTAXIncome tax Filing GuideIncome Tax CalculatorEmergency Fund CalculatorTOOLSProvident Fund CalculatorAssets Allocation PlanningDebt Reduction PlannerDebt Evaluation CalculatorCurrent Expense CalculatorFREE CREDIT SCORE₹100 Cash RewardREAL ESTATE : TRENDS & ANALYTICSMC 30MONEYCONTROL - SECURENOW HEALTH INSURANCE RATINGSGOLD PRICE TODAYUpcoming Chat | Previous TranscriptsAll Schedule | Previous Transcript\\n\\nForumEXPLORE FORUMHomepageMembership RulesForum TopicsAsk the ExpertTop BoardersUSER PROFILEFORUM TOPICSLatest ThreadsStocksIndexGoldPersonal FinanceJust PostedMF FORUMPOLLSLatest PollsHistorical PollsMarket SentimentsSUPPORTFAQsCode of ConductFeedbackWrite to us\\n\\nVideosVIDEOSHomepageVideos on DemandMarkets with Santo & CJMorning TradeCommodities chat with Manisha GuptaLet`s Talk JobsThe TenantDrive ReportBajar GupshupBits To BillionsPODCASTHomepagePodcast on DemandThe Week on Dalal StreetMarket MinutesMC Special PodcastSimply SavePolicy TalksLIVE TVHindiGujarati\\n\\nInvest NowEXPERT TRADING GUIDANCEPowered By Trading Advisories, Courses & Webinars by Top Verified Experts.Unlock Your Trading Potential: Trade like Experts with SEBI registered creators, Learn from Courses & Webinars by India\\'s Finest Finance Experts.Invest NowINVEST IN CRYPTOCURRENCIESPowered By Invest in top cryptocurrencies all over the worldSee the top gainers, losers, invest and get updated what\\'s happening in the crypto marketInvest Now\\n\\nPRO\\n\\nBusiness\\n\\nMarkets\\n\\nStocks\\n\\nEconomy\\n\\nCompanies\\n\\nTrends\\n\\nIPO\\n\\nOpinion\\n\\nEV Special\\n\\nHome\\n\\nNews\\n\\nBusiness\\n\\nMarkets\\n\\nTrending Topics\\n\\nSensex Today\\n\\nBansal Wire Share Price\\n\\nRVNL Share Price\\n\\nEmcure Pharma share price\\n\\nDelta Corp Share Price\\n\\nMyth of stock market eating into bank deposits, foreign investors’ FOMO, MGL, Star Health, Prestige in focus, bears gun for Ujjivan Small Fin\\n\\n\"Sell a stock because the company’s fundamentals deteriorate, not because the sky is falling.\" - Peter Lynch\\n\\nSantosh Nair\\n\\nJune 25, 2024 / 07:37 AM IST\\n\\n\\n\\n\\n\\n\\n\\n\\n\\n\\n\\n\\n\\nThe market is rallying, but foreign investors don’t seem to be giving in to the fear of missing out (FOMO) for now.\\n\\nA popular theory in the market is that the main reason for banks’ inability to garner low-cost deposits fast enough to match loan growth is that more savers are diverting their money to the stock market. This has led to mutual fund managers blaming the banking lobby for some of the rule changes in recent times. But the theory of stock market hurting banking deposit growth may be flawed, argue Nomura analysts Param Subramanian, Ankit Bihani, Ajit Kumar, and Parth Desai.\\n\\nFrom their note:\\n\\nStory continues below Advertisement\\n\\nRemove Ad\\n\\n“There is a misplaced narrative among many investors that money moving into capital markets (stocks and mutual funds) is affecting system deposit growth. This is incorrect, as flows into capital markets stay with the banking system (money flows from the buyer’s deposit account to the seller). In fact, money in capital markets finds no mention in RBI’s broad money statistics – as this is already accounted for in system deposit data.”\\n\\nStill cautious\\n\\nStill cautious\\n\\nThe market is rallying, but foreign investors don’t seem to be giving in to the fear of missing out (FOMO) for now.\\n\\nFrom Emkay strategist Seshadri Sen’s note:\\n\\nFrom Emkay strategist Seshadri Sen’s note:\\n\\n“Long-only investors have largely missed the post-election rally, both on absolute allocations to India and sector positioning in high-beta SMIDs. They are reluctant, however, to jump in at this stage due to expensive valuations.”\\n\\nRelated stories\\n\\nShort Call: No market for bears, AC stocks have a cool run, steel, paints, Man, HUDCO, Kalpataru, Ba...\\n\\nShort Call: Hour of reckoning for bulls, green shoots in logistics, steady Q1 for QSR; Indian Hotels...\\n\\nShort Call: Mutual fund investors chase momentum; capex cycle, Lupin, ITC, Persistent, Inox Wind in ...\\n\\nThe contra indicator here possibly could be that too many fund managers are getting optimistic about the economy and earnings outlook. Also, political concerns have all but vanished.\\n\\nStar Health (Rs 520, +0.2%)\\n\\nDown 5 percent over the past month on concerns over business model sustainability of standalone health insurers (SAHIs) if the government amends the Insurance Act to permit composite licenses.\\n\\nBull Case: SAHIs have unique strengths, including a diverse product range, strong hospital partnerships, and robust claims and underwriting capabilities, which are not easily replicated.\\n\\nStory continues below Advertisement\\n\\nRemove Ad\\n\\nBear Case: Life insurers could threaten SAHIs\\' market position. With an established agency network, life insurance companies might gain an upper hand.\\n\\nUjjivan Small Finance Bank (Rs 45.95, -5%)\\n\\nFY25 loan growth guidance and RoE target reduced to 20 percent\\n\\nBull case: Plans to increase the contribution of secured assets to 35 percent by FY25 and 40 percent by FY26. Looking to strengthen retail deposit franchise and leverage technology.\\n\\nBear case: Slower microfinance lending in FY24 due to pockets of stress in Punjab, Gujarat, and Kerala. Planned increase in the secured portfolio could reduce gross NIM.\\n\\nMahanagar Gas (Rs 1,487, flat)\\n\\nBajaj Auto to launch world’s first CNG motorcycle on July 5, with initial production capacity of 20,000 units per month.\\n\\nBull case: Bajaj’s initial 20,000 per month capacity located in Maharashtra; Nuvama expects MGL to be an early beneficiary, estimating a 2%-plus CNG volume gain by FY26E.\\n\\nBear case: Changes in domestic gas allocation could force greater reliance on expensive imports, hurting margins. Rupee depreciation and higher prices for allocated gas other risks.\\n\\nPrestige Estates (Rs 2,035, +2.6%)\\n\\nHospitality arm IPO soon\\n\\nBull case: Guidance of pre-sales growth of 25 percent YoY by FY25, supported by its dominant position in Bengaluru, upbeat residential demand, and cheaper valuations compared to peers.\\n\\nBear case: Muted residential demand, delay in execution of projects, and high interest rates potential risks. Recent gains partly driven by hopes of hospitality arm going public. Any delay there could hit sentiment.\\n\\nSantosh Nair                is Executive Editor, Special Projects, Moneycontrol. He has been writing on the financial markets for over two decades, having previously worked with Business Standard, myiris.com, Crisil Market Wire and The Economic Times. He is also the author of the popular book on Indian markets, Bulls, Bears and Other Beasts.\\n\\nTags:\\n\\n#Short Call\\n\\nfirst published: Jun 25, 2024 07:37 am\\n\\nTop Trends\\n\\nBudget 2024\\n\\nWipro\\n\\nStock Radar\\n\\nIxigo IPO allotment\\n\\nIPO News\\n\\nPrajwal Revanna\\n\\nAdvertisement\\n\\nRemove Ad\\n\\nTrending news\\n\\nZomato celebrates \\'16th janamdin\\' with quirky newspaper ad. Paytm CEO hearts it\\n\\nAther CEO\\'s witty retort to Nikhil Kamath’s \\'sh*t marketing\\' jibe: \\'Isko discount...\\'\\n\\nOla\\'s Bhavish Aggarwal stands for kurta, urges young professionals to embrace Indian culture. Watch\\n\\nAnant Ambani-Radhika Merchant wedding: Mumbai hotel rates soar from Rs 13,000 to Rs 91,350 per night\\n\\n30-year-old made over Rs 56 lakh last year by selling \\'trash\\'. What is \\'dumpster diving\\'?\\n\\nAdvisory Alert:\\n\\ngrievanceofficer@nw18.com or call on 02268882347\\n\\nForum\\n\\nFacebook\\n\\nTwitter\\n\\nInstagram\\n\\nLinkedin\\n\\nRSS\\n\\nPortfolio\\n\\nMarkets\\n\\nWatchlist\\n\\nLive TV Show\\n\\nCurrencies\\n\\nFREE Credit Score₹100 Cash Reward\\n\\nCommodities\\n\\nFixed Income\\n\\nPersonal Finance\\n\\nMutual Fund\\n\\nPre-Market\\n\\nIPO\\n\\nGlobal Market\\n\\nBudget 2024\\n\\nElections 2024\\n\\nGold Rate\\n\\nBSE Sensex\\n\\nForum\\n\\nMC 30\\n\\nNews\\n\\nBusiness\\n\\nMarkets\\n\\nStocks\\n\\nIncome Tax Calculator\\n\\nIndia News\\n\\nT20 World Cup Points Table\\n\\nITR Filing 2023-24\\n\\nEconomy\\n\\nMutual Funds\\n\\nPersonal Finance\\n\\nIPO News\\n\\nStartups\\n\\nStocks:\\n\\nA |\\n\\nB |\\n\\nC |\\n\\nD |\\n\\nE |\\n\\nF |\\n\\nG |\\n\\nH |\\n\\nI |\\n\\nJ |\\n\\nK |\\n\\nL |\\n\\nM |\\n\\nN |\\n\\nO |\\n\\nP |\\n\\nQ |\\n\\nR |\\n\\nS |\\n\\nT |\\n\\nU |\\n\\nV |\\n\\nW |\\n\\nX |\\n\\nY |\\n\\nZ |\\n\\nOthers\\n\\nMutual Funds:\\n\\nA \\r\\n             |\\n\\nB \\r\\n             |\\n\\nC \\r\\n             |\\n\\nD \\r\\n             |\\n\\nE \\r\\n             |\\n\\nF \\r\\n             |\\n\\nG \\r\\n             |\\n\\nH \\r\\n             |\\n\\nI \\r\\n             |\\n\\nJ \\r\\n             |\\n\\nK \\r\\n             |\\n\\nL \\r\\n             |\\n\\nM \\r\\n             |\\n\\nN \\r\\n             |\\n\\nO \\r\\n             |\\n\\nP \\r\\n             |\\n\\nQ \\r\\n             |\\n\\nR \\r\\n             |\\n\\nS \\r\\n             |\\n\\nT \\r\\n             |\\n\\nU \\r\\n             |\\n\\nV \\r\\n             |\\n\\nW \\r\\n             |\\n\\nX \\r\\n             |\\n\\nY \\r\\n             |\\n\\nVisit the App Store to see all our apps:\\n\\nDownload from Google Play\\n\\nDownload from APP Store\\n\\nDownload from Windows Phone\\n\\nTools\\n\\nRetirement Planning\\n\\nEMI Calculator\\n\\nSIP Calculator\\n\\nSIP Planner\\n\\nUseful Links\\n\\nCrypto News\\n\\nBank Holidays in India\\n\\nGold Rate Today\\n\\nSilver Rate Today\\n\\nTrending News\\n\\nStartups\\n\\nNational News\\n\\nMC Videos\\n\\nMC You Tube\\n\\nHouse Purchase Index\\n\\nBest Portfolio Manager\\n\\nSmall Savings Schemes\\n\\nBonds\\n\\nTopperLearning\\n\\nClear Study Doubts\\n\\nEducation Franchisee Opportunity\\n\\nSpecials\\n\\nMaster Your Money\\n\\nGame Changers\\n\\nInvestment Watch\\n\\nPowerYourTrade\\n\\nMoneyBhai\\n\\nFocus\\n\\nSME Step Up\\n\\nNetwork 18 Sites\\n\\nNews18\\n\\nFirstpost\\n\\nCNBC TV18\\n\\nNews18 Hindi\\n\\nCricketnext\\n\\nOverdrive\\n\\nTopper Learning\\n\\nAbout us |\\n\\nContact Us |\\n\\nAdvisory Alert |\\n\\nAdvertise with Us |\\n\\nSupport |\\n\\nDisclaimer |\\n\\nPrivacy Policy |\\n\\nCookie Policy |\\n\\nTerms & Conditions |\\n\\nCareers |\\n\\nFinancial Terms (Glossary) |\\n\\nFAQs |\\n\\nSitemap |\\n\\nRSS Feed |\\n\\nInvestors\\n\\nCopyright © e-Eighteen.com Ltd. All rights reserved. Reproduction of news articles, photos, videos or any other content in whole or in part in any form \\r\\n        or medium without express writtern permission of moneycontrol.com is prohibited.\\n\\nYou got 30 Day’s Trial of\\n\\nGrab it Now\\n\\nAd-Free Experience\\n\\nTop Articles from Financial Times\\n\\nActionable Insights\\n\\nMC Research\\n\\nEconomic Calendar\\n\\n& Many More\\n\\nYou are already a Moneycontrol Pro user.\\n\\nNeeshita Beura', metadata={'source': 'https://www.moneycontrol.com/news/business/markets/myth-of-stock-market-eating-into-bank-deposits-foreign-investors-fomo-mgl-star-health-prestige-in-focus-bears-gun-for-ujjivan-small-fin-12755470.html'}),\n",
       " Document(page_content='English\\n\\nHindi\\n\\nGujarati\\n\\nSpecials\\n\\nMoneycontrol Trending Stock\\n\\nInfosys\\xa0INE009A01021, INFY, 500209\\n\\nState Bank of India\\xa0INE062A01020, SBIN, 500112\\n\\nYes Bank\\xa0INE528G01027, YESBANK, 532648\\n\\nBank Nifty\\n\\nNifty 500\\n\\nQuotes\\n\\nMutual Funds\\n\\nCommodities\\n\\nFutures & Options\\n\\nCurrency\\n\\nNews\\n\\nCryptocurrency\\n\\nForum\\n\\nNotices\\n\\nVideos\\n\\nGlossary\\n\\nAll\\n\\nHello, Login Hello, LoginLog-inor Sign-UpMy AccountMy Profile My PortfolioMy WatchlistFREE Credit Score₹100 Cash RewardMy AlertsMy MessagesPrice AlertsMy Profile My PROMy PortfolioMy WatchlistFREE Credit Score₹100 Cash RewardMy AlertsMy MessagesPrice AlertsLogoutChat with UsDownload AppFollow us on:\\n\\nGo Ad-Free\\n\\nMy Alerts\\n\\nBudget 2        24MarketsHOMEINDIAN INDICESSTOCK ACTIONAll StatsTop GainersTop LosersOnly BuyersOnly Sellers52 Week High52 Week LowPrice ShockersVolume ShockersMost Active StocksGLOBAL MARKETSUS MARKETSSEASONALITY ANALYSISSTOCK SCANNERECONOMIC INDICATORSECONOMIC CALENDARMARKET ACTIONDashboardF&OFII & DII ActivityCorporate ActionEARNINGSCOMMODITYPRE MARKETRESEARCHAdviceBroker ResearchTechnicalsCURRENCYCRYPTOCURRENCYBIG SHARK PORTFOLIOSTECHNICAL TRENDSIPOBONDSWEBINARINTERVIEW SERIESOTHERSCryptocurrency NewsToolsNewsLATEST NEWSBudget 2024BUSINESSEconomyCompaniesMutual FundsPersonal FinanceIPOStartupReal EstateNATION & WORLDIndiaWorldPoliticsMARKETSStocksTechnical AnalysisEquity ResearchCommoditiesCurrencyGold RateSilver RateAQISPECIALTrendsLatest NewsOpinionExplainersMC BuzzMC FeaturesMC LearnTECHNOLOGYPersonal TechAutoFintechMEDIAPodcastPhotosVideosWeb StoriesCRYPTOCURRENCYOTHERSEntertainmentSportsLifestyleHealth and FitnessEducationJobsScienceAstroTravelTechPortfolioWatchlistCommoditiesMutual FundsEXPLOREHomeFind FundTop Ranked FundsPerformance TrackerSIP Performance TrackerETF PerformanceNFOTop Performing CategoriesLearnTOOLSReturns CalculatorLumpsum SIP BalancerDelay Cost CalculatorSIP ReturnMF FORUMTRACKYour MF InvestmentMF PricesMC 30Personal FinanceEXPLOREHomeInvestingInsuranceBankingFinancial PlanningPropertyToolsVideoAsk ExpertExplainerIncome Tax Filing GuideNPSFIXED DEPOSITFixed Deposit ComparisonFixed Deposit Interest CalculatorCorporate DepositsLOANS & CREDIT CARDSHomeLoans\\t\\t\\t\\t\\t\\t\\t\\t\\t\\t\\t\\t\\xa0Car Loan CalculatorHome Loan CalculatorEducation Loan CalculatorCredit Card Debit Payoff CalculatorTAXIncome tax Filing GuideIncome Tax CalculatorEmergency Fund CalculatorTOOLSProvident Fund CalculatorAssets Allocation PlanningDebt Reduction PlannerDebt Evaluation CalculatorCurrent Expense CalculatorFREE CREDIT SCORE₹100 Cash RewardREAL ESTATE : TRENDS & ANALYTICSMC 30MONEYCONTROL - SECURENOW HEALTH INSURANCE RATINGSGOLD PRICE TODAYUpcoming Chat | Previous TranscriptsAll Schedule | Previous TranscriptForumEXPLORE FORUMHomepageMembership RulesForum TopicsAsk the ExpertTop BoardersUSER PROFILEFORUM TOPICSLatest ThreadsStocksIndexGoldPersonal FinanceJust PostedMF FORUMPOLLSLatest PollsHistorical PollsMarket SentimentsSUPPORTFAQsCode of ConductFeedbackWrite to usVideosVIDEOSHomepageVideos on DemandMarkets with Santo & CJMorning TradeCommodities chat with Manisha GuptaLet`s Talk JobsThe TenantDrive ReportBajar GupshupBits To BillionsPODCASTHomepagePodcast on DemandThe Week on Dalal StreetMarket MinutesMC Special PodcastSimply SavePolicy TalksLIVE TVHindiGujaratiInvest NowEXPERT TRADING GUIDANCEPowered By Trading Advisories, Courses & Webinars by Top Verified Experts.Unlock Your Trading Potential: Trade like Experts with SEBI registered creators, Learn from Courses & Webinars by India\\'s Finest Finance Experts.Invest NowINVEST IN CRYPTOCURRENCIESPowered By Invest in top cryptocurrencies all over the worldSee the top gainers, losers, invest and get updated what\\'s happening in the crypto marketInvest NowPRO BusinessMarketsStocksEconomyCompaniesTrendsIPOOpinionEV Special\\n\\n>->MC_ENG_DESKTOP/MC_ENG_NEWS/MC_ENG_MARKETS_AS/MC_ENG_ROS_NWS_MKTS_AS_ATF_728\\n\\nGo PRO @₹99\\n\\nPRO\\n\\nAdvertisement\\n\\nRemove Ad\\n\\n\\n\\nBudget 2        24\\n\\nMarketsHOMEINDIAN INDICESSTOCK ACTIONAll StatsTop GainersTop LosersOnly BuyersOnly Sellers52 Week High52 Week LowPrice ShockersVolume ShockersMost Active StocksGLOBAL MARKETSUS MARKETSSEASONALITY ANALYSISSTOCK SCANNERECONOMIC INDICATORSECONOMIC CALENDARMARKET ACTIONDashboardF&OFII & DII ActivityCorporate ActionEARNINGSCOMMODITYPRE MARKETRESEARCHAdviceBroker ResearchTechnicalsCURRENCYCRYPTOCURRENCYBIG SHARK PORTFOLIOSTECHNICAL TRENDSIPOBONDSWEBINARINTERVIEW SERIESOTHERSCryptocurrency NewsTools\\n\\nNewsLATEST NEWSBudget 2024BUSINESSEconomyCompaniesMutual FundsPersonal FinanceIPOStartupReal EstateNATION & WORLDIndiaWorldPoliticsMARKETSStocksTechnical AnalysisEquity ResearchCommoditiesCurrencyGold RateSilver RateAQISPECIALTrendsLatest NewsOpinionExplainersMC BuzzMC FeaturesMC LearnTECHNOLOGYPersonal TechAutoFintechMEDIAPodcastPhotosVideosWeb StoriesCRYPTOCURRENCYOTHERSEntertainmentSportsLifestyleHealth and FitnessEducationJobsScienceAstroTravel\\n\\nTech\\n\\nPortfolio\\n\\nWatchlist\\n\\nCommodities\\n\\nMutual FundsEXPLOREHomeFind FundTop Ranked FundsPerformance TrackerSIP Performance TrackerETF PerformanceNFOTop Performing CategoriesLearnTOOLSReturns CalculatorLumpsum SIP BalancerDelay Cost CalculatorSIP ReturnMF FORUMTRACKYour MF InvestmentMF PricesMC 30\\n\\nPersonal FinanceEXPLOREHomeInvestingInsuranceBankingFinancial PlanningPropertyToolsVideoAsk ExpertExplainerIncome Tax Filing GuideNPSFIXED DEPOSITFixed Deposit ComparisonFixed Deposit Interest CalculatorCorporate DepositsLOANS & CREDIT CARDSHomeLoans\\t\\t\\t\\t\\t\\t\\t\\t\\t\\t\\t\\t\\xa0Car Loan CalculatorHome Loan CalculatorEducation Loan CalculatorCredit Card Debit Payoff CalculatorTAXIncome tax Filing GuideIncome Tax CalculatorEmergency Fund CalculatorTOOLSProvident Fund CalculatorAssets Allocation PlanningDebt Reduction PlannerDebt Evaluation CalculatorCurrent Expense CalculatorFREE CREDIT SCORE₹100 Cash RewardREAL ESTATE : TRENDS & ANALYTICSMC 30MONEYCONTROL - SECURENOW HEALTH INSURANCE RATINGSGOLD PRICE TODAYUpcoming Chat | Previous TranscriptsAll Schedule | Previous Transcript\\n\\nForumEXPLORE FORUMHomepageMembership RulesForum TopicsAsk the ExpertTop BoardersUSER PROFILEFORUM TOPICSLatest ThreadsStocksIndexGoldPersonal FinanceJust PostedMF FORUMPOLLSLatest PollsHistorical PollsMarket SentimentsSUPPORTFAQsCode of ConductFeedbackWrite to us\\n\\nVideosVIDEOSHomepageVideos on DemandMarkets with Santo & CJMorning TradeCommodities chat with Manisha GuptaLet`s Talk JobsThe TenantDrive ReportBajar GupshupBits To BillionsPODCASTHomepagePodcast on DemandThe Week on Dalal StreetMarket MinutesMC Special PodcastSimply SavePolicy TalksLIVE TVHindiGujarati\\n\\nInvest NowEXPERT TRADING GUIDANCEPowered By Trading Advisories, Courses & Webinars by Top Verified Experts.Unlock Your Trading Potential: Trade like Experts with SEBI registered creators, Learn from Courses & Webinars by India\\'s Finest Finance Experts.Invest NowINVEST IN CRYPTOCURRENCIESPowered By Invest in top cryptocurrencies all over the worldSee the top gainers, losers, invest and get updated what\\'s happening in the crypto marketInvest Now\\n\\nPRO\\n\\nBusiness\\n\\nMarkets\\n\\nStocks\\n\\nEconomy\\n\\nCompanies\\n\\nTrends\\n\\nIPO\\n\\nOpinion\\n\\nEV Special\\n\\nHome\\n\\nNews\\n\\nBusiness\\n\\nMarkets\\n\\nTrending Topics\\n\\nSensex Today\\n\\nBansal Wire Share Price\\n\\nRVNL Share Price\\n\\nEmcure Pharma share price\\n\\nDelta Corp Share Price\\n\\nCLSA, UBS bullish on Zomato stock; Morgan Stanley recommends buying on dips\\n\\nMorgan Stanley recently retained its ‘overweight’ rating on Zomato with a target of Rs 235. The brokerage said Zepto raising funding round increases the relevance of Quick Commerce (QC) channel.\\n\\nMoneycontrol News\\n\\nJune 25, 2024 / 09:51 AM IST\\n\\n\\n\\n\\n\\n\\n\\n\\n\\n\\n\\n\\n\\nAccording to Morgan Stanley analysts, any correction in Zomato could be a buying opportunity for the long-term investors.\\n\\nShares of Zomato gained over 2 percent on June 25 as several brokerages reaffirmed their bullish calls on the stock following Prosus’ FY24 annual report which showed Zomato is growing faster then Swiggy.\\n\\nThe stock has been on investors\\' radar since global brokerages turned bullish on the counter post its confirmation on initial talks with Paytm to acquire its ticketing business.\\n\\nStory continues below Advertisement\\n\\nRemove Ad\\n\\nAs per Prosus’ annual report for FY24, Swiggy’s overall gross order value (GOV) grew by 26 percent on-year which lagged Zomato’s corresponding growth of 36 percent during the same period.\\n\\nSwiggy’s overall revenue growth of 24 percent YoY was also lower than Zomato’s adjusted revenue growth of 55.9 percent YoY. Meanwhile, Swiggy’s trading losses reduced to $158mn during FY24 while Zomato reported a positive Ebitda of $5mn during FY24.\\n\\nAccording to analysts at Emkay Global, Zomato’s higher growth has been aided by the superior performance of its Quick Commerce. Meanwhile, Swiggy\\'s revenue increased 24 percent on-year, while Zomato\\'s adjusted revenue rose by nearly 56 percent YoY.\\n\\nRelated stories\\n\\nInvestec bullish on BSE but flags potentially severe regulatory risk; check target price\\n\\nNykaa sees 1.47 crore shares exchanged in block deals, shares sink\\n\\nMarathon Nextgen Realty sheds 7.5% after presale value nearly halves in Q1\\n\\nFollow our market blog to catch all the live action\\n\\nCLSA has issued a buy call on Zomato with a target price of Rs 248 per share. Another international brokerage UBS has also recommended a buy rating on the food aggregator\\'s stock with a target price of Rs 250.\\n\\nAccording to Emkay Global\\'s analysts, Swiggy’s performance reflects the continued traction of food delivery and rise of quick commerce.\\n\\nStory continues below Advertisement\\n\\nRemove Ad\\n\\n\"Steady improvement in operational performance and the planned IPO of Swiggy are likely to keep investor interest high in the space,\" the brokerage said as it maintained its \\'buy\\' call on Zomato with a target price of Rs 230 per share.\\n\\nRecently, Morgan Stanley retained its ‘overweight’ rating on Zomato with a target of Rs 235. The brokerage said Zepto raising funding round increases the relevance of Quick Commerce (QC) channel.\\n\\nLast week, Zepto announced that it has raised $665 million in a funding round that has doubled its valuations to $3.6 billion. This fundraise marked the biggest financing this year in the QC segment.\\n\\nAlso Read |\\xa0Morgan Stanley remains logged into internet stocks, prefers Zomato and PB Fintech\\n\\nMorgan Stanley said there is a probability that the competitive intensity may increase in the segment over the near term. It noted that assuming competitive intensity increases further, a push out of profitability for Quick commerce business versus the current assumptions is possible.\\n\\nAccording to analysts, any correction in Zomato could be a buying opportunity for the long-term investors.\\n\\nBernstein also has a \\'Buy\\' call on Zomato stock with a target price of Rs 230 per share. The brokerage cited the company\\'s market leadership, pricing power, and reduced delivery costs as key factors enabling it to achieve expanding margins and improved returns.\\n\\nAt 9:17 am, Zomato shares were trading 2.2 percent higher at Rs 203.04 on NSE. With today\\'s jump, the stock has delivered 63 percent returns on a year-to-date (YTD) basis\\n\\nIn the last one year, the stock has risen over 170 percent, massively outperforming benchmark Nifty 50 which rose 26 percent during this period.\\n\\nDisclaimer: The views and investment tips expressed by investment experts on Moneycontrol.com are their own and not those of the website or its management. Moneycontrol.com advises users to check with certified experts before taking any investment decisions.\\n\\nMoneycontrol News\\n\\nTags:\\n\\n#Buzzing Stocks\\n\\n#quick commerce\\n\\n#Swiggy\\n\\n#Swiggy and Zomato\\n\\n#Zomato\\n\\nfirst published: Jun 25, 2024 09:48 am\\n\\nTop Trends\\n\\nBudget 2024\\n\\nWipro\\n\\nStock Radar\\n\\nIxigo IPO allotment\\n\\nIPO News\\n\\nPrajwal Revanna\\n\\nAdvertisement\\n\\nRemove Ad\\n\\nTrending news\\n\\nZomato celebrates \\'16th janamdin\\' with quirky newspaper ad. Paytm CEO hearts it\\n\\nAther CEO\\'s witty retort to Nikhil Kamath’s \\'sh*t marketing\\' jibe: \\'Isko discount...\\'\\n\\nOla\\'s Bhavish Aggarwal stands for kurta, urges young professionals to embrace Indian culture. Watch\\n\\nAnant Ambani-Radhika Merchant wedding: Mumbai hotel rates soar from Rs 13,000 to Rs 91,350 per night\\n\\n30-year-old made over Rs 56 lakh last year by selling \\'trash\\'. What is \\'dumpster diving\\'?\\n\\nAdvisory Alert:\\n\\ngrievanceofficer@nw18.com or call on 02268882347\\n\\nForum\\n\\nFacebook\\n\\nTwitter\\n\\nInstagram\\n\\nLinkedin\\n\\nRSS\\n\\nPortfolio\\n\\nMarkets\\n\\nWatchlist\\n\\nLive TV Show\\n\\nCurrencies\\n\\nFREE Credit Score₹100 Cash Reward\\n\\nCommodities\\n\\nFixed Income\\n\\nPersonal Finance\\n\\nMutual Fund\\n\\nPre-Market\\n\\nIPO\\n\\nGlobal Market\\n\\nBudget 2024\\n\\nElections 2024\\n\\nGold Rate\\n\\nBSE Sensex\\n\\nForum\\n\\nMC 30\\n\\nNews\\n\\nBusiness\\n\\nMarkets\\n\\nStocks\\n\\nIncome Tax Calculator\\n\\nIndia News\\n\\nT20 World Cup Points Table\\n\\nITR Filing 2023-24\\n\\nEconomy\\n\\nMutual Funds\\n\\nPersonal Finance\\n\\nIPO News\\n\\nStartups\\n\\nStocks:\\n\\nA |\\n\\nB |\\n\\nC |\\n\\nD |\\n\\nE |\\n\\nF |\\n\\nG |\\n\\nH |\\n\\nI |\\n\\nJ |\\n\\nK |\\n\\nL |\\n\\nM |\\n\\nN |\\n\\nO |\\n\\nP |\\n\\nQ |\\n\\nR |\\n\\nS |\\n\\nT |\\n\\nU |\\n\\nV |\\n\\nW |\\n\\nX |\\n\\nY |\\n\\nZ |\\n\\nOthers\\n\\nMutual Funds:\\n\\nA \\r\\n             |\\n\\nB \\r\\n             |\\n\\nC \\r\\n             |\\n\\nD \\r\\n             |\\n\\nE \\r\\n             |\\n\\nF \\r\\n             |\\n\\nG \\r\\n             |\\n\\nH \\r\\n             |\\n\\nI \\r\\n             |\\n\\nJ \\r\\n             |\\n\\nK \\r\\n             |\\n\\nL \\r\\n             |\\n\\nM \\r\\n             |\\n\\nN \\r\\n             |\\n\\nO \\r\\n             |\\n\\nP \\r\\n             |\\n\\nQ \\r\\n             |\\n\\nR \\r\\n             |\\n\\nS \\r\\n             |\\n\\nT \\r\\n             |\\n\\nU \\r\\n             |\\n\\nV \\r\\n             |\\n\\nW \\r\\n             |\\n\\nX \\r\\n             |\\n\\nY \\r\\n             |\\n\\nVisit the App Store to see all our apps:\\n\\nDownload from Google Play\\n\\nDownload from APP Store\\n\\nDownload from Windows Phone\\n\\nTools\\n\\nRetirement Planning\\n\\nEMI Calculator\\n\\nSIP Calculator\\n\\nSIP Planner\\n\\nUseful Links\\n\\nCrypto News\\n\\nBank Holidays in India\\n\\nGold Rate Today\\n\\nSilver Rate Today\\n\\nTrending News\\n\\nStartups\\n\\nNational News\\n\\nMC Videos\\n\\nMC You Tube\\n\\nHouse Purchase Index\\n\\nBest Portfolio Manager\\n\\nSmall Savings Schemes\\n\\nBonds\\n\\nTopperLearning\\n\\nClear Study Doubts\\n\\nEducation Franchisee Opportunity\\n\\nSpecials\\n\\nMaster Your Money\\n\\nGame Changers\\n\\nInvestment Watch\\n\\nPowerYourTrade\\n\\nMoneyBhai\\n\\nFocus\\n\\nSME Step Up\\n\\nNetwork 18 Sites\\n\\nNews18\\n\\nFirstpost\\n\\nCNBC TV18\\n\\nNews18 Hindi\\n\\nCricketnext\\n\\nOverdrive\\n\\nTopper Learning\\n\\nAbout us |\\n\\nContact Us |\\n\\nAdvisory Alert |\\n\\nAdvertise with Us |\\n\\nSupport |\\n\\nDisclaimer |\\n\\nPrivacy Policy |\\n\\nCookie Policy |\\n\\nTerms & Conditions |\\n\\nCareers |\\n\\nFinancial Terms (Glossary) |\\n\\nFAQs |\\n\\nSitemap |\\n\\nRSS Feed |\\n\\nInvestors\\n\\nCopyright © e-Eighteen.com Ltd. All rights reserved. Reproduction of news articles, photos, videos or any other content in whole or in part in any form \\r\\n        or medium without express writtern permission of moneycontrol.com is prohibited.\\n\\nYou got 30 Day’s Trial of\\n\\nGrab it Now\\n\\nAd-Free Experience\\n\\nTop Articles from Financial Times\\n\\nActionable Insights\\n\\nMC Research\\n\\nEconomic Calendar\\n\\n& Many More\\n\\nYou are already a Moneycontrol Pro user.\\n\\nHarshita Tyagi', metadata={'source': 'https://www.moneycontrol.com/news/business/markets/clsa-ubs-bullish-on-zomato-stock-morgan-stanley-recommends-buying-on-dips-12755548.html'})]"
      ]
     },
     "execution_count": 10,
     "metadata": {},
     "output_type": "execute_result"
    }
   ],
   "source": [
    "url_loader = UnstructuredURLLoader(urls = [\n",
    "    \"https://www.moneycontrol.com/news/business/markets/myth-of-stock-market-eating-into-bank-deposits-foreign-investors-fomo-mgl-star-health-prestige-in-focus-bears-gun-for-ujjivan-small-fin-12755470.html\",\n",
    "    \"https://www.moneycontrol.com/news/business/markets/clsa-ubs-bullish-on-zomato-stock-morgan-stanley-recommends-buying-on-dips-12755548.html\"\n",
    "])\n",
    "data = url_loader.load()\n",
    "data"
   ]
  },
  {
   "cell_type": "code",
   "execution_count": 11,
   "metadata": {},
   "outputs": [
    {
     "data": {
      "text/plain": [
       "39"
      ]
     },
     "execution_count": 11,
     "metadata": {},
     "output_type": "execute_result"
    }
   ],
   "source": [
    "document_splitter = RecursiveCharacterTextSplitter(\n",
    "    separators = [\"\\n\\n\", \"\\n\", \" \"],\n",
    "    chunk_size = 1000,\n",
    "    chunk_overlap = 200\n",
    ")\n",
    "chunks = document_splitter.split_documents(data)\n",
    "len(chunks)"
   ]
  },
  {
   "cell_type": "code",
   "execution_count": 12,
   "metadata": {},
   "outputs": [
    {
     "name": "stderr",
     "output_type": "stream",
     "text": [
      "C:\\Users\\iitsh\\AppData\\Local\\Temp\\ipykernel_15692\\2235586757.py:1: FutureWarning: The behavior of DataFrame concatenation with empty or all-NA entries is deprecated. In a future version, this will no longer exclude empty or all-NA columns when determining the result dtypes. To retain the old behavior, exclude the relevant entries before the concat operation.\n",
      "  df = pd.concat([df, pd.DataFrame([[d.page_content, datetime.now(), d.metadata[\"source\"]] for d in chunks], columns = [\"text\", \"timestamp\", \"url\"])], ignore_index = True)\n"
     ]
    },
    {
     "data": {
      "text/html": [
       "<div>\n",
       "<style scoped>\n",
       "    .dataframe tbody tr th:only-of-type {\n",
       "        vertical-align: middle;\n",
       "    }\n",
       "\n",
       "    .dataframe tbody tr th {\n",
       "        vertical-align: top;\n",
       "    }\n",
       "\n",
       "    .dataframe thead th {\n",
       "        text-align: right;\n",
       "    }\n",
       "</style>\n",
       "<table border=\"1\" class=\"dataframe\">\n",
       "  <thead>\n",
       "    <tr style=\"text-align: right;\">\n",
       "      <th></th>\n",
       "      <th>text</th>\n",
       "      <th>timestamp</th>\n",
       "      <th>url</th>\n",
       "    </tr>\n",
       "  </thead>\n",
       "  <tbody>\n",
       "    <tr>\n",
       "      <th>0</th>\n",
       "      <td>English\\n\\nHindi\\n\\nGujarati\\n\\nSpecials\\n\\nMo...</td>\n",
       "      <td>2024-07-10 12:52:56.157645</td>\n",
       "      <td>https://www.moneycontrol.com/news/business/mar...</td>\n",
       "    </tr>\n",
       "    <tr>\n",
       "      <th>1</th>\n",
       "      <td>Budget 2        24MarketsHOMEINDIAN INDICESSTO...</td>\n",
       "      <td>2024-07-10 12:52:56.157645</td>\n",
       "      <td>https://www.moneycontrol.com/news/business/mar...</td>\n",
       "    </tr>\n",
       "    <tr>\n",
       "      <th>2</th>\n",
       "      <td>NewsOpinionExplainersMC BuzzMC FeaturesMC Lear...</td>\n",
       "      <td>2024-07-10 12:52:56.157645</td>\n",
       "      <td>https://www.moneycontrol.com/news/business/mar...</td>\n",
       "    </tr>\n",
       "    <tr>\n",
       "      <th>3</th>\n",
       "      <td>Loan CalculatorCredit Card Debit Payoff Calcul...</td>\n",
       "      <td>2024-07-10 12:52:56.157645</td>\n",
       "      <td>https://www.moneycontrol.com/news/business/mar...</td>\n",
       "    </tr>\n",
       "    <tr>\n",
       "      <th>4</th>\n",
       "      <td>chat with Manisha GuptaLet`s Talk JobsThe Tena...</td>\n",
       "      <td>2024-07-10 12:52:56.157645</td>\n",
       "      <td>https://www.moneycontrol.com/news/business/mar...</td>\n",
       "    </tr>\n",
       "  </tbody>\n",
       "</table>\n",
       "</div>"
      ],
      "text/plain": [
       "                                                text  \\\n",
       "0  English\\n\\nHindi\\n\\nGujarati\\n\\nSpecials\\n\\nMo...   \n",
       "1  Budget 2        24MarketsHOMEINDIAN INDICESSTO...   \n",
       "2  NewsOpinionExplainersMC BuzzMC FeaturesMC Lear...   \n",
       "3  Loan CalculatorCredit Card Debit Payoff Calcul...   \n",
       "4  chat with Manisha GuptaLet`s Talk JobsThe Tena...   \n",
       "\n",
       "                   timestamp  \\\n",
       "0 2024-07-10 12:52:56.157645   \n",
       "1 2024-07-10 12:52:56.157645   \n",
       "2 2024-07-10 12:52:56.157645   \n",
       "3 2024-07-10 12:52:56.157645   \n",
       "4 2024-07-10 12:52:56.157645   \n",
       "\n",
       "                                                 url  \n",
       "0  https://www.moneycontrol.com/news/business/mar...  \n",
       "1  https://www.moneycontrol.com/news/business/mar...  \n",
       "2  https://www.moneycontrol.com/news/business/mar...  \n",
       "3  https://www.moneycontrol.com/news/business/mar...  \n",
       "4  https://www.moneycontrol.com/news/business/mar...  "
      ]
     },
     "execution_count": 12,
     "metadata": {},
     "output_type": "execute_result"
    }
   ],
   "source": [
    "df = pd.concat([df, pd.DataFrame([[d.page_content, datetime.now(), d.metadata[\"source\"]] for d in chunks], columns = [\"text\", \"timestamp\", \"url\"])], ignore_index = True)\n",
    "df.head()"
   ]
  },
  {
   "cell_type": "code",
   "execution_count": 13,
   "metadata": {},
   "outputs": [
    {
     "data": {
      "text/plain": [
       "Document(page_content='English\\n\\nHindi\\n\\nGujarati\\n\\nSpecials\\n\\nMoneycontrol Trending Stock\\n\\nInfosys\\xa0INE009A01021, INFY, 500209\\n\\nState Bank of India\\xa0INE062A01020, SBIN, 500112\\n\\nYes Bank\\xa0INE528G01027, YESBANK, 532648\\n\\nBank Nifty\\n\\nNifty 500\\n\\nQuotes\\n\\nMutual Funds\\n\\nCommodities\\n\\nFutures & Options\\n\\nCurrency\\n\\nNews\\n\\nCryptocurrency\\n\\nForum\\n\\nNotices\\n\\nVideos\\n\\nGlossary\\n\\nAll\\n\\nHello, Login Hello, LoginLog-inor Sign-UpMy AccountMy Profile My PortfolioMy WatchlistFREE Credit Score₹100 Cash RewardMy AlertsMy MessagesPrice AlertsMy Profile My PROMy PortfolioMy WatchlistFREE Credit Score₹100 Cash RewardMy AlertsMy MessagesPrice AlertsLogoutChat with UsDownload AppFollow us on:\\n\\nGo Ad-Free\\n\\nMy Alerts', metadata={'source': 'https://www.moneycontrol.com/news/business/markets/myth-of-stock-market-eating-into-bank-deposits-foreign-investors-fomo-mgl-star-health-prestige-in-focus-bears-gun-for-ujjivan-small-fin-12755470.html'})"
      ]
     },
     "execution_count": 13,
     "metadata": {},
     "output_type": "execute_result"
    }
   ],
   "source": [
    "chunks[0]"
   ]
  },
  {
   "cell_type": "code",
   "execution_count": 14,
   "metadata": {},
   "outputs": [],
   "source": [
    "gemini_model = Gemini(model = \"models/gemini-pro\")"
   ]
  },
  {
   "cell_type": "code",
   "execution_count": 15,
   "metadata": {},
   "outputs": [
    {
     "name": "stdout",
     "output_type": "stream",
     "text": [
      "Understood. I can interpret and respond to your messages effectively.\n"
     ]
    }
   ],
   "source": [
    "resp = gemini_model.complete(\"Just reply with a short message confirming your ability to understand and interpret my messages.\")\n",
    "print(resp)"
   ]
  },
  {
   "cell_type": "code",
   "execution_count": 32,
   "metadata": {},
   "outputs": [
    {
     "data": {
      "text/plain": [
       "'Understood. I can interpret and respond to your messages effectively.'"
      ]
     },
     "execution_count": 32,
     "metadata": {},
     "output_type": "execute_result"
    }
   ],
   "source": [
    "str(resp)"
   ]
  },
  {
   "cell_type": "code",
   "execution_count": 31,
   "metadata": {},
   "outputs": [
    {
     "data": {
      "text/plain": [
       "str"
      ]
     },
     "execution_count": 31,
     "metadata": {},
     "output_type": "execute_result"
    }
   ],
   "source": [
    "type(str(resp))"
   ]
  },
  {
   "cell_type": "code",
   "execution_count": 6,
   "metadata": {},
   "outputs": [
    {
     "name": "stderr",
     "output_type": "stream",
     "text": [
      "c:\\Users\\iitsh\\AppData\\Local\\Programs\\Python\\Python312\\Lib\\site-packages\\huggingface_hub\\file_download.py:1132: FutureWarning: `resume_download` is deprecated and will be removed in version 1.0.0. Downloads always resume when possible. If you want to force a new download, use `force_download=True`.\n",
      "  warnings.warn(\n"
     ]
    }
   ],
   "source": [
    "encoder = SentenceTransformer(\"all-mpnet-base-v2\")"
   ]
  },
  {
   "cell_type": "code",
   "execution_count": 7,
   "metadata": {},
   "outputs": [],
   "source": [
    "# with open(\"encoder.pkl\", \"wb\") as f:\n",
    "#     pickle.dump(encoder, f)"
   ]
  },
  {
   "cell_type": "code",
   "execution_count": 5,
   "metadata": {},
   "outputs": [
    {
     "data": {
      "text/plain": [
       "['app.py',\n",
       " 'Application Architecture v1.png',\n",
       " 'Application Architecture.excalidraw',\n",
       " 'secrets.py',\n",
       " 'test-df.csv',\n",
       " 'test-vectordb.pkl',\n",
       " 'test.csv',\n",
       " 'test.ipynb',\n",
       " 'test.txt',\n",
       " 'tranformer.pkl',\n",
       " '__init__.py']"
      ]
     },
     "execution_count": 5,
     "metadata": {},
     "output_type": "execute_result"
    }
   ],
   "source": [
    "# os.listdir()"
   ]
  },
  {
   "cell_type": "code",
   "execution_count": 16,
   "metadata": {},
   "outputs": [
    {
     "name": "stderr",
     "output_type": "stream",
     "text": [
      "c:\\Users\\iitsh\\AppData\\Local\\Programs\\Python\\Python312\\Lib\\site-packages\\huggingface_hub\\file_download.py:1132: FutureWarning: `resume_download` is deprecated and will be removed in version 1.0.0. Downloads always resume when possible. If you want to force a new download, use `force_download=True`.\n",
      "  warnings.warn(\n"
     ]
    },
    {
     "data": {
      "text/plain": [
       "(39, 768)"
      ]
     },
     "execution_count": 16,
     "metadata": {},
     "output_type": "execute_result"
    }
   ],
   "source": [
    "vectors = encoder.encode([chunk.page_content for chunk in chunks])\n",
    "vectors.shape"
   ]
  },
  {
   "cell_type": "code",
   "execution_count": 17,
   "metadata": {},
   "outputs": [],
   "source": [
    "dim = vectors.shape[1]\n",
    "faiss_vectordb = faiss.IndexFlatL2(dim)"
   ]
  },
  {
   "cell_type": "code",
   "execution_count": 18,
   "metadata": {},
   "outputs": [
    {
     "data": {
      "text/plain": [
       "<faiss.swigfaiss_avx2.IndexFlatL2; proxy of <Swig Object of type 'faiss::IndexFlatL2 *' at 0x000002B5554484B0> >"
      ]
     },
     "execution_count": 18,
     "metadata": {},
     "output_type": "execute_result"
    }
   ],
   "source": [
    "faiss_vectordb.add(vectors)\n",
    "faiss_vectordb"
   ]
  },
  {
   "cell_type": "code",
   "execution_count": 19,
   "metadata": {},
   "outputs": [],
   "source": [
    "with open(\"test-vectordb.pkl\", \"wb\") as f:\n",
    "    pickle.dump(faiss_vectordb, f)"
   ]
  },
  {
   "cell_type": "code",
   "execution_count": 20,
   "metadata": {},
   "outputs": [],
   "source": [
    "df.to_csv(\"test-df.csv\")"
   ]
  },
  {
   "cell_type": "code",
   "execution_count": 23,
   "metadata": {},
   "outputs": [
    {
     "data": {
      "text/html": [
       "<div>\n",
       "<style scoped>\n",
       "    .dataframe tbody tr th:only-of-type {\n",
       "        vertical-align: middle;\n",
       "    }\n",
       "\n",
       "    .dataframe tbody tr th {\n",
       "        vertical-align: top;\n",
       "    }\n",
       "\n",
       "    .dataframe thead th {\n",
       "        text-align: right;\n",
       "    }\n",
       "</style>\n",
       "<table border=\"1\" class=\"dataframe\">\n",
       "  <thead>\n",
       "    <tr style=\"text-align: right;\">\n",
       "      <th></th>\n",
       "      <th>text</th>\n",
       "      <th>timestamp</th>\n",
       "      <th>url</th>\n",
       "    </tr>\n",
       "  </thead>\n",
       "  <tbody>\n",
       "    <tr>\n",
       "      <th>0</th>\n",
       "      <td>English\\n\\nHindi\\n\\nGujarati\\n\\nSpecials\\n\\nMo...</td>\n",
       "      <td>2024-07-10 12:52:56.157645</td>\n",
       "      <td>https://www.moneycontrol.com/news/business/mar...</td>\n",
       "    </tr>\n",
       "    <tr>\n",
       "      <th>1</th>\n",
       "      <td>Budget 2        24MarketsHOMEINDIAN INDICESSTO...</td>\n",
       "      <td>2024-07-10 12:52:56.157645</td>\n",
       "      <td>https://www.moneycontrol.com/news/business/mar...</td>\n",
       "    </tr>\n",
       "    <tr>\n",
       "      <th>2</th>\n",
       "      <td>NewsOpinionExplainersMC BuzzMC FeaturesMC Lear...</td>\n",
       "      <td>2024-07-10 12:52:56.157645</td>\n",
       "      <td>https://www.moneycontrol.com/news/business/mar...</td>\n",
       "    </tr>\n",
       "    <tr>\n",
       "      <th>3</th>\n",
       "      <td>Loan CalculatorCredit Card Debit Payoff Calcul...</td>\n",
       "      <td>2024-07-10 12:52:56.157645</td>\n",
       "      <td>https://www.moneycontrol.com/news/business/mar...</td>\n",
       "    </tr>\n",
       "    <tr>\n",
       "      <th>4</th>\n",
       "      <td>chat with Manisha GuptaLet`s Talk JobsThe Tena...</td>\n",
       "      <td>2024-07-10 12:52:56.157645</td>\n",
       "      <td>https://www.moneycontrol.com/news/business/mar...</td>\n",
       "    </tr>\n",
       "  </tbody>\n",
       "</table>\n",
       "</div>"
      ],
      "text/plain": [
       "                                                text  \\\n",
       "0  English\\n\\nHindi\\n\\nGujarati\\n\\nSpecials\\n\\nMo...   \n",
       "1  Budget 2        24MarketsHOMEINDIAN INDICESSTO...   \n",
       "2  NewsOpinionExplainersMC BuzzMC FeaturesMC Lear...   \n",
       "3  Loan CalculatorCredit Card Debit Payoff Calcul...   \n",
       "4  chat with Manisha GuptaLet`s Talk JobsThe Tena...   \n",
       "\n",
       "                    timestamp  \\\n",
       "0  2024-07-10 12:52:56.157645   \n",
       "1  2024-07-10 12:52:56.157645   \n",
       "2  2024-07-10 12:52:56.157645   \n",
       "3  2024-07-10 12:52:56.157645   \n",
       "4  2024-07-10 12:52:56.157645   \n",
       "\n",
       "                                                 url  \n",
       "0  https://www.moneycontrol.com/news/business/mar...  \n",
       "1  https://www.moneycontrol.com/news/business/mar...  \n",
       "2  https://www.moneycontrol.com/news/business/mar...  \n",
       "3  https://www.moneycontrol.com/news/business/mar...  \n",
       "4  https://www.moneycontrol.com/news/business/mar...  "
      ]
     },
     "execution_count": 23,
     "metadata": {},
     "output_type": "execute_result"
    }
   ],
   "source": [
    "check_df = pd.read_csv(\"test-df.csv\", index_col = \"Unnamed: 0\")\n",
    "check_df.head()"
   ]
  },
  {
   "cell_type": "code",
   "execution_count": 22,
   "metadata": {},
   "outputs": [
    {
     "data": {
      "text/plain": [
       "(39, 4)"
      ]
     },
     "execution_count": 22,
     "metadata": {},
     "output_type": "execute_result"
    }
   ],
   "source": [
    "check_df.shape"
   ]
  },
  {
   "cell_type": "code",
   "execution_count": 24,
   "metadata": {},
   "outputs": [
    {
     "data": {
      "text/plain": [
       "'https://www.moneycontrol.com/news/business/markets/myth-of-stock-market-eating-into-bank-deposits-foreign-investors-fomo-mgl-star-health-prestige-in-focus-bears-gun-for-ujjivan-small-fin-12755470.html'"
      ]
     },
     "execution_count": 24,
     "metadata": {},
     "output_type": "execute_result"
    }
   ],
   "source": [
    "df.loc[0, \"url\"]"
   ]
  },
  {
   "cell_type": "code",
   "execution_count": 27,
   "metadata": {},
   "outputs": [],
   "source": [
    "query = \"What is the stock advice related to Prestige Estates?\"\n",
    "encoded_query = encoder.encode([query])\n",
    "relevant_chunk_indices = faiss_vectordb.search(encoded_query, 3)[1][0]"
   ]
  },
  {
   "cell_type": "code",
   "execution_count": 28,
   "metadata": {},
   "outputs": [
    {
     "data": {
      "text/plain": [
       "array([14, 38,  5], dtype=int64)"
      ]
     },
     "execution_count": 28,
     "metadata": {},
     "output_type": "execute_result"
    }
   ],
   "source": [
    "relevant_chunk_indices"
   ]
  },
  {
   "cell_type": "code",
   "execution_count": 34,
   "metadata": {},
   "outputs": [
    {
     "name": "stdout",
     "output_type": "stream",
     "text": [
      "**Bull Case:**\n",
      "\n",
      "* Pre-sales growth guidance of 25% YoY by FY25\n",
      "* Dominant position in Bengaluru, a key real estate market\n",
      "* Upbeat residential demand\n",
      "* Cheaper valuations compared to peers\n",
      "\n",
      "**Bear Case:**\n",
      "\n",
      "* Muted residential demand\n",
      "* Potential delays in project execution\n",
      "* High interest rates\n",
      "* Recent gains driven by expectations of hospitality arm's IPO, which could impact sentiment if delayed\n"
     ]
    }
   ],
   "source": [
    "chunk_responses = []\n",
    "for i in relevant_chunk_indices:\n",
    "    relevant_chunk = df.loc[i, \"text\"]\n",
    "    prompt = f\"Answer the following question within double quotes using the text within backticks (`):\\n\\\"{query}\\\"\\n`{relevant_chunk}`\"\n",
    "    chunk_responses.append(str(gemini_model.complete(prompt)))\n",
    "summarization_prompt = f\"Summarize in detail: {\" \".join(chunk_responses)}\"\n",
    "print(gemini_model.complete(summarization_prompt))"
   ]
  },
  {
   "cell_type": "code",
   "execution_count": 35,
   "metadata": {},
   "outputs": [
    {
     "data": {
      "text/plain": [
       "['\"Bull case: Guidance of pre-sales growth of 25 percent YoY by FY25, supported by its dominant position in Bengaluru, upbeat residential demand, and cheaper valuations compared to peers.\\n\\nBear case: Muted residential demand, delay in execution of projects, and high interest rates potential risks. Recent gains partly driven by hopes of hospitality arm going public. Any delay there could hit sentiment.\"',\n",
       " '\"The provided text does not contain any stock advice related to Prestige Estates.\"',\n",
       " '\"I\\'m sorry, but the provided text does not contain any stock advice related to Prestige Estates.\"']"
      ]
     },
     "execution_count": 35,
     "metadata": {},
     "output_type": "execute_result"
    }
   ],
   "source": [
    "chunk_responses"
   ]
  },
  {
   "cell_type": "code",
   "execution_count": null,
   "metadata": {},
   "outputs": [],
   "source": []
  }
 ],
 "metadata": {
  "kernelspec": {
   "display_name": "Python 3",
   "language": "python",
   "name": "python3"
  },
  "language_info": {
   "codemirror_mode": {
    "name": "ipython",
    "version": 3
   },
   "file_extension": ".py",
   "mimetype": "text/x-python",
   "name": "python",
   "nbconvert_exporter": "python",
   "pygments_lexer": "ipython3",
   "version": "3.12.0"
  }
 },
 "nbformat": 4,
 "nbformat_minor": 2
}
